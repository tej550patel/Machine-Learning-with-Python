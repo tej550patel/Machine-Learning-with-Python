{
 "cells": [
  {
   "cell_type": "code",
   "execution_count": 3,
   "metadata": {},
   "outputs": [
    {
     "name": "stdout",
     "output_type": "stream",
     "text": [
      "enter a number-13.4\n",
      "valuue is =  13.4\n"
     ]
    },
    {
     "data": {
      "text/plain": [
       "179.56"
      ]
     },
     "execution_count": 3,
     "metadata": {},
     "output_type": "execute_result"
    }
   ],
   "source": [
    "def square(a):\n",
    "    print(\"valuue is = \",a)\n",
    "    return a*a\n",
    "\n",
    "value = float(input(\"enter a number-\"))\n",
    "square(value)"
   ]
  },
  {
   "cell_type": "code",
   "execution_count": 4,
   "metadata": {},
   "outputs": [
    {
     "name": "stdout",
     "output_type": "stream",
     "text": [
      "0\n",
      "1\n",
      "2\n",
      "3\n",
      "4\n",
      "count value reached  5\n"
     ]
    }
   ],
   "source": [
    "count = 0\n",
    "while(count < 5):\n",
    "    print(count)\n",
    "    count = count+1\n",
    "else:\n",
    "    print(\"count value reached \",count)"
   ]
  },
  {
   "cell_type": "code",
   "execution_count": 5,
   "metadata": {},
   "outputs": [
    {
     "name": "stdout",
     "output_type": "stream",
     "text": [
      "0\n",
      "1\n",
      "2\n",
      "3\n"
     ]
    }
   ],
   "source": [
    "count = 0\n",
    "while(count < 6):\n",
    "    print(count)\n",
    "    if count==3:\n",
    "        break\n",
    "    count += 1"
   ]
  },
  {
   "cell_type": "code",
   "execution_count": 9,
   "metadata": {},
   "outputs": [
    {
     "name": "stdout",
     "output_type": "stream",
     "text": [
      "100\n",
      "99\n",
      "98\n",
      "97\n",
      "96\n",
      "95\n",
      "94\n",
      "93\n",
      "92\n",
      "91\n",
      "90\n",
      "89\n",
      "88\n",
      "87\n",
      "86\n",
      "85\n",
      "84\n",
      "83\n",
      "82\n",
      "81\n",
      "80\n",
      "79\n",
      "78\n",
      "77\n",
      "76\n",
      "75\n",
      "74\n",
      "73\n",
      "72\n",
      "71\n",
      "70\n"
     ]
    }
   ],
   "source": [
    "count = 100\n",
    "while(count >= 70):\n",
    "    print(count)\n",
    "    count = count-1\n"
   ]
  },
  {
   "cell_type": "code",
   "execution_count": 1,
   "metadata": {},
   "outputs": [
    {
     "name": "stdout",
     "output_type": "stream",
     "text": [
      "100 even number\n",
      "99 odd number\n",
      "98 even number\n",
      "97 odd number\n",
      "96 even number\n",
      "95 odd number\n",
      "94 even number\n",
      "93 odd number\n",
      "92 even number\n",
      "91 odd number\n",
      "90 even number\n",
      "89 odd number\n",
      "88 even number\n",
      "87 odd number\n",
      "86 even number\n",
      "85 odd number\n",
      "84 even number\n",
      "83 odd number\n",
      "82 even number\n",
      "81 odd number\n",
      "80 even number\n",
      "79 odd number\n",
      "78 even number\n",
      "77 odd number\n",
      "76 even number\n",
      "75 odd number\n",
      "74 even number\n",
      "73 odd number\n",
      "72 even number\n",
      "71 odd number\n",
      "70 even number\n"
     ]
    }
   ],
   "source": [
    "count = 100\n",
    "while(count >= 70):\n",
    "    if count%2==0:\n",
    "        print(count,\"even number\")\n",
    "    else:\n",
    "        print(count,\"odd number\")\n",
    "    count -=1\n",
    "    "
   ]
  },
  {
   "cell_type": "code",
   "execution_count": 2,
   "metadata": {},
   "outputs": [
    {
     "name": "stdout",
     "output_type": "stream",
     "text": [
      "Happy Diwali, A\n",
      "Happy Diwali, B\n",
      "Happy Diwali, C\n",
      "Happy Diwali, 3.6\n"
     ]
    }
   ],
   "source": [
    "friends = ['A','B','C',3.6]\n",
    "for f in friends:\n",
    "    print(\"Happy Diwali,\",f)"
   ]
  },
  {
   "cell_type": "code",
   "execution_count": 3,
   "metadata": {},
   "outputs": [
    {
     "name": "stdout",
     "output_type": "stream",
     "text": [
      "15\n"
     ]
    }
   ],
   "source": [
    "x = lambda a : a + 10\n",
    "print(x(5))"
   ]
  },
  {
   "cell_type": "code",
   "execution_count": 4,
   "metadata": {},
   "outputs": [
    {
     "name": "stdout",
     "output_type": "stream",
     "text": [
      "125\n"
     ]
    }
   ],
   "source": [
    "g = lambda x: x*x*x\n",
    "print(g(5))"
   ]
  },
  {
   "cell_type": "code",
   "execution_count": 7,
   "metadata": {},
   "outputs": [
    {
     "name": "stdout",
     "output_type": "stream",
     "text": [
      "Enter the file name: D:/sample.txt\n",
      "This is a finally block which will always get executed\n",
      "This is a sample file.\n",
      "\n",
      "Just trying to check\n",
      "\n",
      "how to read and display the file conent\n",
      "Line Count:  3\n"
     ]
    }
   ],
   "source": [
    "fname = input(\"Enter the file name: \")\n",
    "try:\n",
    "    my_file = open(fname)\n",
    "except FileNotFoundError:\n",
    "    print(\"File cannot be opened\",fname)\n",
    "finally:\n",
    "    print(\"This is a finally block which will always get executed\")\n",
    "    \n",
    "count = 0\n",
    "for line in my_file:\n",
    "    print(line)\n",
    "    count = count + 1\n",
    "    \n",
    "print(\"Line Count: \",count)"
   ]
  },
  {
   "cell_type": "code",
   "execution_count": 10,
   "metadata": {},
   "outputs": [],
   "source": [
    "file_write = open(r'C:\\Users\\HP\\Desktop\\output_new.txt','w')\n",
    "\n",
    "line1 = \"Hey there!\\n\"\n",
    "file_write.write(line1)\n",
    "\n",
    "line2 = \"What are you doing?\\n\"\n",
    "file_write.write(line2)\n",
    "\n",
    "file_write.close()"
   ]
  },
  {
   "cell_type": "code",
   "execution_count": 11,
   "metadata": {},
   "outputs": [
    {
     "name": "stdout",
     "output_type": "stream",
     "text": [
      "<class 'complex'>\n"
     ]
    }
   ],
   "source": [
    "a = 10+2j\n",
    "print(type(a))"
   ]
  },
  {
   "cell_type": "code",
   "execution_count": 12,
   "metadata": {},
   "outputs": [],
   "source": [
    "import math"
   ]
  },
  {
   "cell_type": "code",
   "execution_count": 13,
   "metadata": {},
   "outputs": [
    {
     "name": "stdout",
     "output_type": "stream",
     "text": [
      "4.0\n",
      "11\n"
     ]
    }
   ],
   "source": [
    "print(math.sqrt(16))\n",
    "print(math.ceil(10.6))"
   ]
  },
  {
   "cell_type": "code",
   "execution_count": 15,
   "metadata": {},
   "outputs": [
    {
     "name": "stdout",
     "output_type": "stream",
     "text": [
      "0.9759750413730585\n",
      "87\n"
     ]
    }
   ],
   "source": [
    "import random as rn\n",
    "print(rn.random())\n",
    "print(rn.randrange(50,100))"
   ]
  },
  {
   "cell_type": "code",
   "execution_count": 17,
   "metadata": {},
   "outputs": [
    {
     "name": "stdout",
     "output_type": "stream",
     "text": [
      "Enter the number between 1 and 100: 4\n"
     ]
    }
   ],
   "source": [
    "number = rn.randrange(1,100)\n",
    "value = int(input(\"Enter the number between 1 and 100: \"))\n",
    "if value > number:\n",
    "    print(\"\")\n",
    "elif value < number:\n",
    "    print(\"\")"
   ]
  },
  {
   "cell_type": "code",
   "execution_count": 18,
   "metadata": {},
   "outputs": [
    {
     "name": "stdout",
     "output_type": "stream",
     "text": [
      "Hello World\n"
     ]
    }
   ],
   "source": [
    "str1 = 'Hello'\n",
    "str2 = 'World'\n",
    "\n",
    "str1 = str1+\" \"+str2\n",
    "print(str1)"
   ]
  },
  {
   "cell_type": "code",
   "execution_count": 19,
   "metadata": {},
   "outputs": [
    {
     "name": "stdout",
     "output_type": "stream",
     "text": [
      "python\n",
      "['PYTHON', 'IS', 'A', 'PROGRAMMING LANGUAGE.']\n"
     ]
    }
   ],
   "source": [
    "print(\"PyThon\".lower())\n",
    "\n",
    "string = \"python,is,a,programming language.\"\n",
    "print(string.upper().split(sep=\",\"))"
   ]
  },
  {
   "cell_type": "code",
   "execution_count": 20,
   "metadata": {},
   "outputs": [
    {
     "name": "stdout",
     "output_type": "stream",
     "text": [
      "Haddy Diwali\n"
     ]
    }
   ],
   "source": [
    "print(\"Happy Diwali\".replace(\"p\",\"d\"))"
   ]
  },
  {
   "cell_type": "markdown",
   "metadata": {},
   "source": [
    "# LISTS"
   ]
  },
  {
   "cell_type": "code",
   "execution_count": 21,
   "metadata": {},
   "outputs": [
    {
     "name": "stdout",
     "output_type": "stream",
     "text": [
      "[1, 2, 3, 5, 3, 2]\n",
      "[1, 4.2, 'python', 4.2]\n",
      "<class 'list'>\n"
     ]
    }
   ],
   "source": [
    "mylist1 = [1,2,3,5,3,2]\n",
    "mylist2 = [1,4.2,'python',4.2]\n",
    "print(mylist1)\n",
    "print(mylist2)\n",
    "print(type(mylist2))"
   ]
  },
  {
   "cell_type": "code",
   "execution_count": 1,
   "metadata": {},
   "outputs": [
    {
     "name": "stdout",
     "output_type": "stream",
     "text": [
      "[1, 3, 6, 9, 4, 5, 6, 7, 8, 'nikita']\n"
     ]
    }
   ],
   "source": [
    "#append is used to add only a single element\n",
    "#extend is used to add multiple elements\n",
    "\n",
    "my_list = [1,3,6,9]\n",
    "\n",
    "my_new_list = [4,5,6,7,8]\n",
    "my_list.extend(my_new_list)\n",
    "my_list.append(\"nikita\")\n",
    "\n",
    "print(my_list)"
   ]
  },
  {
   "cell_type": "code",
   "execution_count": 2,
   "metadata": {},
   "outputs": [
    {
     "name": "stdout",
     "output_type": "stream",
     "text": [
      "[1, 3, 6, 9, 4, 5, 6, 7, 8, 'nikita']\n"
     ]
    },
    {
     "data": {
      "text/plain": [
       "[1, 9, 4, 5, 6, 7, 8, 'nikita']"
      ]
     },
     "execution_count": 2,
     "metadata": {},
     "output_type": "execute_result"
    }
   ],
   "source": [
    "print(my_list)\n",
    "del my_list[1:3]\n",
    "my_list"
   ]
  },
  {
   "cell_type": "markdown",
   "metadata": {},
   "source": [
    "# TUPLES\n"
   ]
  },
  {
   "cell_type": "code",
   "execution_count": 3,
   "metadata": {},
   "outputs": [
    {
     "name": "stdout",
     "output_type": "stream",
     "text": [
      "<class 'tuple'>\n",
      "('p', 'y', 't', 'h', 'o', 'n')\n",
      "(1, 2, 3, 4, 5)\n"
     ]
    }
   ],
   "source": [
    "#mixed datatypes\n",
    "#repetitive elements\n",
    "#preserve the order\n",
    "#immutable\n",
    "c =()\n",
    "print(type(c))\n",
    "\n",
    "c = tuple(\"python\")\n",
    "print(c)\n",
    "\n",
    "d = tuple([1,2,3,4,5])\n",
    "print(d)"
   ]
  },
  {
   "cell_type": "markdown",
   "metadata": {},
   "source": [
    "# SETS"
   ]
  },
  {
   "cell_type": "code",
   "execution_count": 4,
   "metadata": {},
   "outputs": [
    {
     "name": "stdout",
     "output_type": "stream",
     "text": [
      "{1, 2, 3, 4, 5, 6, 7, 38, 72, 10, 16}\n",
      "{1.0, 'Manish', 'Hello', (1, 2, 4)}\n"
     ]
    }
   ],
   "source": [
    "#mixed datatype elements\n",
    "#unique elements allowed\n",
    "#does not preserve the order\n",
    "#does not support indexing\n",
    "#mutable\n",
    "my_set = {1,2,3,5,7,6,4,3,2,10,38,72,16}\n",
    "print(my_set)\n",
    "\n",
    "my_set = {1.0,1,\"Hello\",\"Manish\",(1,2,4)}\n",
    "print(my_set)"
   ]
  },
  {
   "cell_type": "code",
   "execution_count": 5,
   "metadata": {},
   "outputs": [
    {
     "name": "stdout",
     "output_type": "stream",
     "text": [
      "{1, 3}\n",
      "{8, 1, 3}\n",
      "{1, 3, 4, 5, 6, 8}\n"
     ]
    }
   ],
   "source": [
    "my_set = {1,3}\n",
    "print(my_set)\n",
    "\n",
    "my_set.add(8)\n",
    "print(my_set)\n",
    "\n",
    "my_set.update([6,8,1,4,5])\n",
    "print(my_set)"
   ]
  },
  {
   "cell_type": "code",
   "execution_count": 7,
   "metadata": {},
   "outputs": [
    {
     "name": "stdout",
     "output_type": "stream",
     "text": [
      "{1, 2, 3, 4, 5, 6, 7, 8, 9, 10}\n",
      "{1, 2, 3, 4, 5, 6, 7, 8, 9, 10}\n",
      "{4, 5}\n",
      "{4, 5}\n",
      "{1, 2, 3, 9}\n",
      "{8, 10, 6, 7}\n"
     ]
    }
   ],
   "source": [
    "#Union and intersection\n",
    "\n",
    "A = {1,2,3,4,5,9}\n",
    "B = {4,5,6,7,8,10}\n",
    "\n",
    "print(A | B)\n",
    "print(A.union(B))\n",
    "\n",
    "print(A & B)\n",
    "print(A.intersection(B))\n",
    "\n",
    "print(A - B)\n",
    "print(B.difference(A))"
   ]
  },
  {
   "cell_type": "code",
   "execution_count": 8,
   "metadata": {},
   "outputs": [
    {
     "name": "stdout",
     "output_type": "stream",
     "text": [
      "<class 'dict'>\n"
     ]
    }
   ],
   "source": [
    "a = {}\n",
    "print(type(a))"
   ]
  },
  {
   "cell_type": "markdown",
   "metadata": {},
   "source": [
    "# DICTIONARIES"
   ]
  },
  {
   "cell_type": "code",
   "execution_count": 9,
   "metadata": {},
   "outputs": [],
   "source": [
    "#{key:value,k:v}\n",
    "#mixed datatype elements\n",
    "#preserves the order\n",
    "#no indexing supported\n",
    "#accessing done using keys\n",
    "#keys should be unique\n",
    "#values could be repetitive\n",
    "#mutable"
   ]
  },
  {
   "cell_type": "code",
   "execution_count": 11,
   "metadata": {},
   "outputs": [
    {
     "name": "stdout",
     "output_type": "stream",
     "text": [
      "Nikita\n"
     ]
    }
   ],
   "source": [
    "#accessing values\n",
    "my_d = {'name':'Nikita','age':40}\n",
    "print(my_d['name'])\n",
    "\n"
   ]
  },
  {
   "cell_type": "code",
   "execution_count": 12,
   "metadata": {},
   "outputs": [
    {
     "name": "stdout",
     "output_type": "stream",
     "text": [
      "{'name': 'Nikita', 'age': 12}\n",
      "{'name': 'Nikita', 'age': 12, 'address': 'Mumbai'}\n"
     ]
    }
   ],
   "source": [
    "#updating\n",
    "my_d['age'] = 12\n",
    "print(my_d)\n",
    "\n",
    "my_d['address'] = 'Mumbai'\n",
    "print(my_d)"
   ]
  },
  {
   "cell_type": "code",
   "execution_count": 13,
   "metadata": {},
   "outputs": [
    {
     "data": {
      "text/plain": [
       "dict_values(['Nikita', 12, 'Mumbai'])"
      ]
     },
     "execution_count": 13,
     "metadata": {},
     "output_type": "execute_result"
    }
   ],
   "source": [
    "my_d.values()"
   ]
  },
  {
   "cell_type": "code",
   "execution_count": 14,
   "metadata": {},
   "outputs": [
    {
     "data": {
      "text/plain": [
       "dict_keys(['name', 'age', 'address'])"
      ]
     },
     "execution_count": 14,
     "metadata": {},
     "output_type": "execute_result"
    }
   ],
   "source": [
    "my_d.keys()"
   ]
  },
  {
   "cell_type": "code",
   "execution_count": 15,
   "metadata": {},
   "outputs": [],
   "source": [
    "A = [1,2,3,4,5]\n",
    "B = [6,7,8,9,10]\n",
    "\n",
    "D = dict(zip(A,B))"
   ]
  },
  {
   "cell_type": "code",
   "execution_count": 16,
   "metadata": {},
   "outputs": [
    {
     "data": {
      "text/plain": [
       "{1: 6, 2: 7, 3: 8, 4: 9, 5: 10}"
      ]
     },
     "execution_count": 16,
     "metadata": {},
     "output_type": "execute_result"
    }
   ],
   "source": [
    "D"
   ]
  },
  {
   "cell_type": "code",
   "execution_count": null,
   "metadata": {},
   "outputs": [],
   "source": []
  }
 ],
 "metadata": {
  "kernelspec": {
   "display_name": "Python 3",
   "language": "python",
   "name": "python3"
  },
  "language_info": {
   "codemirror_mode": {
    "name": "ipython",
    "version": 3
   },
   "file_extension": ".py",
   "mimetype": "text/x-python",
   "name": "python",
   "nbconvert_exporter": "python",
   "pygments_lexer": "ipython3",
   "version": "3.7.4"
  }
 },
 "nbformat": 4,
 "nbformat_minor": 2
}
