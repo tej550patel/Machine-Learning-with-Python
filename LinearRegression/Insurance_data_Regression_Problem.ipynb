{
 "cells": [
  {
   "cell_type": "markdown",
   "metadata": {},
   "source": [
    "Consider the data present in the Insurance dataset file.<br>\n",
    "Following is the attribute related information:<br><br>\n",
    "\n",
    "age: age of primary beneficiary<br>\n",
    "sex: insurance contractor gender, female, male<br>\n",
    "bmi: Body mass index, providing an understanding of body, weights that are relatively high or low relative to height,\n",
    "objective index of body weight (kg / m ^ 2) using the ratio of height to weight, ideally 18.5 to 24.9<br>\n",
    "children: Number of children covered by health insurance / Number of dependents<br>\n",
    "smoker: Smoking, yes or no<br>\n",
    "region: the beneficiary's residential area in the US, northeast, southeast, southwest, northwest.<br>\n",
    "charges: Individual medical costs billed by health insurance<br><br>\n",
    "\n",
    "Problem statement: To predict the approximate insurance cost based upon the rest of the features provided for each individual."
   ]
  },
  {
   "cell_type": "markdown",
   "metadata": {},
   "source": [
    "Import the libraries- Pandas, Numpy, Matplotlib and Seaborn"
   ]
  },
  {
   "cell_type": "code",
   "execution_count": 1,
   "metadata": {},
   "outputs": [],
   "source": [
    "import pandas as pd\n",
    "import numpy as np\n",
    "import matplotlib.pyplot as plt\n",
    "import seaborn as sns"
   ]
  },
  {
   "cell_type": "markdown",
   "metadata": {},
   "source": [
    "Create a dataframe named \"data\" from the given datafile and print it's head"
   ]
  },
  {
   "cell_type": "code",
   "execution_count": 2,
   "metadata": {
    "scrolled": false
   },
   "outputs": [
    {
     "data": {
      "text/html": [
       "<div>\n",
       "<style scoped>\n",
       "    .dataframe tbody tr th:only-of-type {\n",
       "        vertical-align: middle;\n",
       "    }\n",
       "\n",
       "    .dataframe tbody tr th {\n",
       "        vertical-align: top;\n",
       "    }\n",
       "\n",
       "    .dataframe thead th {\n",
       "        text-align: right;\n",
       "    }\n",
       "</style>\n",
       "<table border=\"1\" class=\"dataframe\">\n",
       "  <thead>\n",
       "    <tr style=\"text-align: right;\">\n",
       "      <th></th>\n",
       "      <th>age</th>\n",
       "      <th>sex</th>\n",
       "      <th>bmi</th>\n",
       "      <th>children</th>\n",
       "      <th>smoker</th>\n",
       "      <th>region</th>\n",
       "      <th>charges</th>\n",
       "    </tr>\n",
       "  </thead>\n",
       "  <tbody>\n",
       "    <tr>\n",
       "      <td>0</td>\n",
       "      <td>19</td>\n",
       "      <td>female</td>\n",
       "      <td>27.900</td>\n",
       "      <td>0</td>\n",
       "      <td>yes</td>\n",
       "      <td>southwest</td>\n",
       "      <td>16884.92400</td>\n",
       "    </tr>\n",
       "    <tr>\n",
       "      <td>1</td>\n",
       "      <td>18</td>\n",
       "      <td>male</td>\n",
       "      <td>33.770</td>\n",
       "      <td>1</td>\n",
       "      <td>no</td>\n",
       "      <td>southeast</td>\n",
       "      <td>1725.55230</td>\n",
       "    </tr>\n",
       "    <tr>\n",
       "      <td>2</td>\n",
       "      <td>28</td>\n",
       "      <td>male</td>\n",
       "      <td>33.000</td>\n",
       "      <td>3</td>\n",
       "      <td>no</td>\n",
       "      <td>southeast</td>\n",
       "      <td>4449.46200</td>\n",
       "    </tr>\n",
       "    <tr>\n",
       "      <td>3</td>\n",
       "      <td>33</td>\n",
       "      <td>male</td>\n",
       "      <td>22.705</td>\n",
       "      <td>0</td>\n",
       "      <td>no</td>\n",
       "      <td>northwest</td>\n",
       "      <td>21984.47061</td>\n",
       "    </tr>\n",
       "    <tr>\n",
       "      <td>4</td>\n",
       "      <td>32</td>\n",
       "      <td>male</td>\n",
       "      <td>28.880</td>\n",
       "      <td>0</td>\n",
       "      <td>no</td>\n",
       "      <td>northwest</td>\n",
       "      <td>3866.85520</td>\n",
       "    </tr>\n",
       "  </tbody>\n",
       "</table>\n",
       "</div>"
      ],
      "text/plain": [
       "   age     sex     bmi  children smoker     region      charges\n",
       "0   19  female  27.900         0    yes  southwest  16884.92400\n",
       "1   18    male  33.770         1     no  southeast   1725.55230\n",
       "2   28    male  33.000         3     no  southeast   4449.46200\n",
       "3   33    male  22.705         0     no  northwest  21984.47061\n",
       "4   32    male  28.880         0     no  northwest   3866.85520"
      ]
     },
     "execution_count": 2,
     "metadata": {},
     "output_type": "execute_result"
    }
   ],
   "source": [
    "data = pd.read_csv(r'C:\\Users\\HP\\python_datasets\\datasets_insurance.csv')\n",
    "data.head()"
   ]
  },
  {
   "cell_type": "markdown",
   "metadata": {},
   "source": [
    "Understand the problem statement and the data, try understanding importance of each variable given.<br>\n",
    "Perform Exploratory Data Analysis- print datatypes, dimension and descriptive statistics."
   ]
  },
  {
   "cell_type": "code",
   "execution_count": 3,
   "metadata": {
    "scrolled": true
   },
   "outputs": [
    {
     "name": "stdout",
     "output_type": "stream",
     "text": [
      "age           int64\n",
      "sex          object\n",
      "bmi         float64\n",
      "children      int64\n",
      "smoker       object\n",
      "region       object\n",
      "charges     float64\n",
      "dtype: object\n",
      "(1338, 7)\n",
      "               age          bmi     children       charges\n",
      "count  1338.000000  1338.000000  1338.000000   1338.000000\n",
      "mean     39.207025    30.663397     1.094918  13270.422265\n",
      "std      14.049960     6.098187     1.205493  12110.011237\n",
      "min      18.000000    15.960000     0.000000   1121.873900\n",
      "25%      27.000000    26.296250     0.000000   4740.287150\n",
      "50%      39.000000    30.400000     1.000000   9382.033000\n",
      "75%      51.000000    34.693750     2.000000  16639.912515\n",
      "max      64.000000    53.130000     5.000000  63770.428010\n"
     ]
    }
   ],
   "source": [
    "print(data.dtypes)\n",
    "print(data.shape)\n",
    "print(data.describe())"
   ]
  },
  {
   "cell_type": "markdown",
   "metadata": {},
   "source": [
    "Check if there are missing values. If yes, handle them."
   ]
  },
  {
   "cell_type": "code",
   "execution_count": 4,
   "metadata": {
    "scrolled": true
   },
   "outputs": [
    {
     "data": {
      "text/plain": [
       "age         0\n",
       "sex         0\n",
       "bmi         0\n",
       "children    0\n",
       "smoker      0\n",
       "region      0\n",
       "charges     0\n",
       "dtype: int64"
      ]
     },
     "execution_count": 4,
     "metadata": {},
     "output_type": "execute_result"
    }
   ],
   "source": [
    "data.isna().sum()"
   ]
  },
  {
   "cell_type": "markdown",
   "metadata": {},
   "source": [
    "Check for Assumption 1- There should be no outliers in the data.<br>\n",
    "Hint: Think logically, nothing needs to be worked upon here."
   ]
  },
  {
   "cell_type": "code",
   "execution_count": 5,
   "metadata": {},
   "outputs": [
    {
     "data": {
      "text/plain": [
       "<matplotlib.axes._subplots.AxesSubplot at 0x2b98303d608>"
      ]
     },
     "execution_count": 5,
     "metadata": {},
     "output_type": "execute_result"
    },
    {
     "data": {
      "image/png": "[encoded data removed]",
      "text/plain": [
       "<Figure size 432x288 with 1 Axes>"
      ]
     },
     "metadata": {
      "needs_background": "light"
     },
     "output_type": "display_data"
    }
   ],
   "source": [
    "data.boxplot(column=['bmi'])"
   ]
  },
  {
   "cell_type": "markdown",
   "metadata": {},
   "source": [
    "Check for Assumption 2-Assumption of Linearity<br>\n",
    "Hint: Use kind=\"scatter\" in the pairplot, because it wont be able to fit a line in categorical variables. Some might show no relationship, but remember they are categorical or important variables, leave it as it is."
   ]
  },
  {
   "cell_type": "code",
   "execution_count": 6,
   "metadata": {},
   "outputs": [
    {
     "data": {
      "text/plain": [
       "<seaborn.axisgrid.PairGrid at 0x2b98336e5c8>"
      ]
     },
     "execution_count": 6,
     "metadata": {},
     "output_type": "execute_result"
    },
    {
     "data": {
      "image/png": "[encoded data removed]",
      "text/plain": [
       "<Figure size 540x180 with 3 Axes>"
      ]
     },
     "metadata": {
      "needs_background": "light"
     },
     "output_type": "display_data"
    }
   ],
   "source": [
    "sns.pairplot(data, x_vars=[\"age\",\"bmi\",\"children\"], y_vars=\"charges\",kind=\"scatter\")"
   ]
  },
  {
   "cell_type": "markdown",
   "metadata": {},
   "source": [
    "Create X and Y"
   ]
  },
  {
   "cell_type": "code",
   "execution_count": 7,
   "metadata": {},
   "outputs": [],
   "source": [
    "X = data[['age', 'sex', 'bmi', 'children', 'smoker', 'region']]\n",
    "Y = data['charges']"
   ]
  },
  {
   "cell_type": "markdown",
   "metadata": {},
   "source": [
    "Check for Assumption 3-Assumption of Normality <br>\n",
    "Hint: You will find the data is highly positively skewed. So log transform the data."
   ]
  },
  {
   "cell_type": "code",
   "execution_count": 8,
   "metadata": {
    "scrolled": true
   },
   "outputs": [
    {
     "data": {
      "text/plain": [
       "<matplotlib.axes._subplots.AxesSubplot at 0x2b9834af488>"
      ]
     },
     "execution_count": 8,
     "metadata": {},
     "output_type": "execute_result"
    },
    {
     "data": {
      "image/png": "[encoded data removed]",
      "text/plain": [
       "<Figure size 432x288 with 1 Axes>"
      ]
     },
     "metadata": {
      "needs_background": "light"
     },
     "output_type": "display_data"
    }
   ],
   "source": [
    "sns.distplot(Y, hist=True)"
   ]
  },
  {
   "cell_type": "code",
   "execution_count": 9,
   "metadata": {},
   "outputs": [],
   "source": [
    "Y_log = np.log(Y)"
   ]
  },
  {
   "cell_type": "code",
   "execution_count": 10,
   "metadata": {
    "scrolled": true
   },
   "outputs": [
    {
     "data": {
      "text/plain": [
       "<matplotlib.axes._subplots.AxesSubplot at 0x2b98357ff88>"
      ]
     },
     "execution_count": 10,
     "metadata": {},
     "output_type": "execute_result"
    },
    {
     "data": {
      "image/png": "[encoded data removed]",
      "text/plain": [
       "<Figure size 432x288 with 1 Axes>"
      ]
     },
     "metadata": {
      "needs_background": "light"
     },
     "output_type": "display_data"
    }
   ],
   "source": [
    "sns.distplot(Y_log, hist=True) "
   ]
  },
  {
   "cell_type": "markdown",
   "metadata": {},
   "source": [
    "Convert Categorical variables to numerical- Sex, Smoker and Region<br>\n",
    "Hint: Make use of map function. Refer to clustering code file.<br>\n",
    "Sex: Female-0,Male-1<br>\n",
    "Smoker: No-0, Yes-1<br>\n",
    "Region: northeast-0,northwest-1,southeast-2,southwest-3"
   ]
  },
  {
   "cell_type": "code",
   "execution_count": 11,
   "metadata": {},
   "outputs": [],
   "source": [
    "from sklearn.preprocessing import LabelEncoder\n",
    "le = LabelEncoder()"
   ]
  },
  {
   "cell_type": "code",
   "execution_count": 12,
   "metadata": {},
   "outputs": [],
   "source": [
    "data[['sex_','smoker_','region_']] = data[['sex','smoker','region']].apply(le.fit_transform)"
   ]
  },
  {
   "cell_type": "code",
   "execution_count": 13,
   "metadata": {},
   "outputs": [
    {
     "data": {
      "text/html": [
       "<div>\n",
       "<style scoped>\n",
       "    .dataframe tbody tr th:only-of-type {\n",
       "        vertical-align: middle;\n",
       "    }\n",
       "\n",
       "    .dataframe tbody tr th {\n",
       "        vertical-align: top;\n",
       "    }\n",
       "\n",
       "    .dataframe thead th {\n",
       "        text-align: right;\n",
       "    }\n",
       "</style>\n",
       "<table border=\"1\" class=\"dataframe\">\n",
       "  <thead>\n",
       "    <tr style=\"text-align: right;\">\n",
       "      <th></th>\n",
       "      <th>age</th>\n",
       "      <th>sex</th>\n",
       "      <th>bmi</th>\n",
       "      <th>children</th>\n",
       "      <th>smoker</th>\n",
       "      <th>region</th>\n",
       "      <th>charges</th>\n",
       "      <th>sex_</th>\n",
       "      <th>smoker_</th>\n",
       "      <th>region_</th>\n",
       "    </tr>\n",
       "  </thead>\n",
       "  <tbody>\n",
       "    <tr>\n",
       "      <td>0</td>\n",
       "      <td>19</td>\n",
       "      <td>female</td>\n",
       "      <td>27.900</td>\n",
       "      <td>0</td>\n",
       "      <td>yes</td>\n",
       "      <td>southwest</td>\n",
       "      <td>16884.92400</td>\n",
       "      <td>0</td>\n",
       "      <td>1</td>\n",
       "      <td>3</td>\n",
       "    </tr>\n",
       "    <tr>\n",
       "      <td>1</td>\n",
       "      <td>18</td>\n",
       "      <td>male</td>\n",
       "      <td>33.770</td>\n",
       "      <td>1</td>\n",
       "      <td>no</td>\n",
       "      <td>southeast</td>\n",
       "      <td>1725.55230</td>\n",
       "      <td>1</td>\n",
       "      <td>0</td>\n",
       "      <td>2</td>\n",
       "    </tr>\n",
       "    <tr>\n",
       "      <td>2</td>\n",
       "      <td>28</td>\n",
       "      <td>male</td>\n",
       "      <td>33.000</td>\n",
       "      <td>3</td>\n",
       "      <td>no</td>\n",
       "      <td>southeast</td>\n",
       "      <td>4449.46200</td>\n",
       "      <td>1</td>\n",
       "      <td>0</td>\n",
       "      <td>2</td>\n",
       "    </tr>\n",
       "    <tr>\n",
       "      <td>3</td>\n",
       "      <td>33</td>\n",
       "      <td>male</td>\n",
       "      <td>22.705</td>\n",
       "      <td>0</td>\n",
       "      <td>no</td>\n",
       "      <td>northwest</td>\n",
       "      <td>21984.47061</td>\n",
       "      <td>1</td>\n",
       "      <td>0</td>\n",
       "      <td>1</td>\n",
       "    </tr>\n",
       "    <tr>\n",
       "      <td>4</td>\n",
       "      <td>32</td>\n",
       "      <td>male</td>\n",
       "      <td>28.880</td>\n",
       "      <td>0</td>\n",
       "      <td>no</td>\n",
       "      <td>northwest</td>\n",
       "      <td>3866.85520</td>\n",
       "      <td>1</td>\n",
       "      <td>0</td>\n",
       "      <td>1</td>\n",
       "    </tr>\n",
       "  </tbody>\n",
       "</table>\n",
       "</div>"
      ],
      "text/plain": [
       "   age     sex     bmi  children smoker     region      charges  sex_  \\\n",
       "0   19  female  27.900         0    yes  southwest  16884.92400     0   \n",
       "1   18    male  33.770         1     no  southeast   1725.55230     1   \n",
       "2   28    male  33.000         3     no  southeast   4449.46200     1   \n",
       "3   33    male  22.705         0     no  northwest  21984.47061     1   \n",
       "4   32    male  28.880         0     no  northwest   3866.85520     1   \n",
       "\n",
       "   smoker_  region_  \n",
       "0        1        3  \n",
       "1        0        2  \n",
       "2        0        2  \n",
       "3        0        1  \n",
       "4        0        1  "
      ]
     },
     "execution_count": 13,
     "metadata": {},
     "output_type": "execute_result"
    }
   ],
   "source": [
    "data.head()"
   ]
  },
  {
   "cell_type": "code",
   "execution_count": 14,
   "metadata": {},
   "outputs": [
    {
     "data": {
      "text/html": [
       "<div>\n",
       "<style scoped>\n",
       "    .dataframe tbody tr th:only-of-type {\n",
       "        vertical-align: middle;\n",
       "    }\n",
       "\n",
       "    .dataframe tbody tr th {\n",
       "        vertical-align: top;\n",
       "    }\n",
       "\n",
       "    .dataframe thead th {\n",
       "        text-align: right;\n",
       "    }\n",
       "</style>\n",
       "<table border=\"1\" class=\"dataframe\">\n",
       "  <thead>\n",
       "    <tr style=\"text-align: right;\">\n",
       "      <th></th>\n",
       "      <th>age</th>\n",
       "      <th>bmi</th>\n",
       "      <th>children</th>\n",
       "      <th>charges</th>\n",
       "      <th>sex_</th>\n",
       "      <th>smoker_</th>\n",
       "      <th>region_</th>\n",
       "    </tr>\n",
       "  </thead>\n",
       "  <tbody>\n",
       "    <tr>\n",
       "      <td>0</td>\n",
       "      <td>19</td>\n",
       "      <td>27.900</td>\n",
       "      <td>0</td>\n",
       "      <td>16884.92400</td>\n",
       "      <td>0</td>\n",
       "      <td>1</td>\n",
       "      <td>3</td>\n",
       "    </tr>\n",
       "    <tr>\n",
       "      <td>1</td>\n",
       "      <td>18</td>\n",
       "      <td>33.770</td>\n",
       "      <td>1</td>\n",
       "      <td>1725.55230</td>\n",
       "      <td>1</td>\n",
       "      <td>0</td>\n",
       "      <td>2</td>\n",
       "    </tr>\n",
       "    <tr>\n",
       "      <td>2</td>\n",
       "      <td>28</td>\n",
       "      <td>33.000</td>\n",
       "      <td>3</td>\n",
       "      <td>4449.46200</td>\n",
       "      <td>1</td>\n",
       "      <td>0</td>\n",
       "      <td>2</td>\n",
       "    </tr>\n",
       "    <tr>\n",
       "      <td>3</td>\n",
       "      <td>33</td>\n",
       "      <td>22.705</td>\n",
       "      <td>0</td>\n",
       "      <td>21984.47061</td>\n",
       "      <td>1</td>\n",
       "      <td>0</td>\n",
       "      <td>1</td>\n",
       "    </tr>\n",
       "    <tr>\n",
       "      <td>4</td>\n",
       "      <td>32</td>\n",
       "      <td>28.880</td>\n",
       "      <td>0</td>\n",
       "      <td>3866.85520</td>\n",
       "      <td>1</td>\n",
       "      <td>0</td>\n",
       "      <td>1</td>\n",
       "    </tr>\n",
       "  </tbody>\n",
       "</table>\n",
       "</div>"
      ],
      "text/plain": [
       "   age     bmi  children      charges  sex_  smoker_  region_\n",
       "0   19  27.900         0  16884.92400     0        1        3\n",
       "1   18  33.770         1   1725.55230     1        0        2\n",
       "2   28  33.000         3   4449.46200     1        0        2\n",
       "3   33  22.705         0  21984.47061     1        0        1\n",
       "4   32  28.880         0   3866.85520     1        0        1"
      ]
     },
     "execution_count": 14,
     "metadata": {},
     "output_type": "execute_result"
    }
   ],
   "source": [
    "data = data.drop(['sex','smoker','region'],axis=1)\n",
    "data.head()"
   ]
  },
  {
   "cell_type": "code",
   "execution_count": 15,
   "metadata": {},
   "outputs": [
    {
     "data": {
      "text/html": [
       "<div>\n",
       "<style scoped>\n",
       "    .dataframe tbody tr th:only-of-type {\n",
       "        vertical-align: middle;\n",
       "    }\n",
       "\n",
       "    .dataframe tbody tr th {\n",
       "        vertical-align: top;\n",
       "    }\n",
       "\n",
       "    .dataframe thead th {\n",
       "        text-align: right;\n",
       "    }\n",
       "</style>\n",
       "<table border=\"1\" class=\"dataframe\">\n",
       "  <thead>\n",
       "    <tr style=\"text-align: right;\">\n",
       "      <th></th>\n",
       "      <th>age</th>\n",
       "      <th>bmi</th>\n",
       "      <th>children</th>\n",
       "      <th>charges</th>\n",
       "      <th>sex_</th>\n",
       "      <th>smoker_</th>\n",
       "      <th>region_</th>\n",
       "      <th>charges_y</th>\n",
       "    </tr>\n",
       "  </thead>\n",
       "  <tbody>\n",
       "    <tr>\n",
       "      <td>0</td>\n",
       "      <td>19</td>\n",
       "      <td>27.900</td>\n",
       "      <td>0</td>\n",
       "      <td>16884.92400</td>\n",
       "      <td>0</td>\n",
       "      <td>1</td>\n",
       "      <td>3</td>\n",
       "      <td>9.734176</td>\n",
       "    </tr>\n",
       "    <tr>\n",
       "      <td>1</td>\n",
       "      <td>18</td>\n",
       "      <td>33.770</td>\n",
       "      <td>1</td>\n",
       "      <td>1725.55230</td>\n",
       "      <td>1</td>\n",
       "      <td>0</td>\n",
       "      <td>2</td>\n",
       "      <td>7.453302</td>\n",
       "    </tr>\n",
       "    <tr>\n",
       "      <td>2</td>\n",
       "      <td>28</td>\n",
       "      <td>33.000</td>\n",
       "      <td>3</td>\n",
       "      <td>4449.46200</td>\n",
       "      <td>1</td>\n",
       "      <td>0</td>\n",
       "      <td>2</td>\n",
       "      <td>8.400538</td>\n",
       "    </tr>\n",
       "    <tr>\n",
       "      <td>3</td>\n",
       "      <td>33</td>\n",
       "      <td>22.705</td>\n",
       "      <td>0</td>\n",
       "      <td>21984.47061</td>\n",
       "      <td>1</td>\n",
       "      <td>0</td>\n",
       "      <td>1</td>\n",
       "      <td>9.998092</td>\n",
       "    </tr>\n",
       "    <tr>\n",
       "      <td>4</td>\n",
       "      <td>32</td>\n",
       "      <td>28.880</td>\n",
       "      <td>0</td>\n",
       "      <td>3866.85520</td>\n",
       "      <td>1</td>\n",
       "      <td>0</td>\n",
       "      <td>1</td>\n",
       "      <td>8.260197</td>\n",
       "    </tr>\n",
       "  </tbody>\n",
       "</table>\n",
       "</div>"
      ],
      "text/plain": [
       "   age     bmi  children      charges  sex_  smoker_  region_  charges_y\n",
       "0   19  27.900         0  16884.92400     0        1        3   9.734176\n",
       "1   18  33.770         1   1725.55230     1        0        2   7.453302\n",
       "2   28  33.000         3   4449.46200     1        0        2   8.400538\n",
       "3   33  22.705         0  21984.47061     1        0        1   9.998092\n",
       "4   32  28.880         0   3866.85520     1        0        1   8.260197"
      ]
     },
     "execution_count": 15,
     "metadata": {},
     "output_type": "execute_result"
    }
   ],
   "source": [
    "data['charges_y'] = Y_log\n",
    "data.head()"
   ]
  },
  {
   "cell_type": "code",
   "execution_count": 16,
   "metadata": {},
   "outputs": [
    {
     "data": {
      "text/html": [
       "<div>\n",
       "<style scoped>\n",
       "    .dataframe tbody tr th:only-of-type {\n",
       "        vertical-align: middle;\n",
       "    }\n",
       "\n",
       "    .dataframe tbody tr th {\n",
       "        vertical-align: top;\n",
       "    }\n",
       "\n",
       "    .dataframe thead th {\n",
       "        text-align: right;\n",
       "    }\n",
       "</style>\n",
       "<table border=\"1\" class=\"dataframe\">\n",
       "  <thead>\n",
       "    <tr style=\"text-align: right;\">\n",
       "      <th></th>\n",
       "      <th>age</th>\n",
       "      <th>bmi</th>\n",
       "      <th>children</th>\n",
       "      <th>sex_</th>\n",
       "      <th>smoker_</th>\n",
       "      <th>region_</th>\n",
       "      <th>charges_y</th>\n",
       "    </tr>\n",
       "  </thead>\n",
       "  <tbody>\n",
       "    <tr>\n",
       "      <td>0</td>\n",
       "      <td>19</td>\n",
       "      <td>27.900</td>\n",
       "      <td>0</td>\n",
       "      <td>0</td>\n",
       "      <td>1</td>\n",
       "      <td>3</td>\n",
       "      <td>9.734176</td>\n",
       "    </tr>\n",
       "    <tr>\n",
       "      <td>1</td>\n",
       "      <td>18</td>\n",
       "      <td>33.770</td>\n",
       "      <td>1</td>\n",
       "      <td>1</td>\n",
       "      <td>0</td>\n",
       "      <td>2</td>\n",
       "      <td>7.453302</td>\n",
       "    </tr>\n",
       "    <tr>\n",
       "      <td>2</td>\n",
       "      <td>28</td>\n",
       "      <td>33.000</td>\n",
       "      <td>3</td>\n",
       "      <td>1</td>\n",
       "      <td>0</td>\n",
       "      <td>2</td>\n",
       "      <td>8.400538</td>\n",
       "    </tr>\n",
       "    <tr>\n",
       "      <td>3</td>\n",
       "      <td>33</td>\n",
       "      <td>22.705</td>\n",
       "      <td>0</td>\n",
       "      <td>1</td>\n",
       "      <td>0</td>\n",
       "      <td>1</td>\n",
       "      <td>9.998092</td>\n",
       "    </tr>\n",
       "    <tr>\n",
       "      <td>4</td>\n",
       "      <td>32</td>\n",
       "      <td>28.880</td>\n",
       "      <td>0</td>\n",
       "      <td>1</td>\n",
       "      <td>0</td>\n",
       "      <td>1</td>\n",
       "      <td>8.260197</td>\n",
       "    </tr>\n",
       "  </tbody>\n",
       "</table>\n",
       "</div>"
      ],
      "text/plain": [
       "   age     bmi  children  sex_  smoker_  region_  charges_y\n",
       "0   19  27.900         0     0        1        3   9.734176\n",
       "1   18  33.770         1     1        0        2   7.453302\n",
       "2   28  33.000         3     1        0        2   8.400538\n",
       "3   33  22.705         0     1        0        1   9.998092\n",
       "4   32  28.880         0     1        0        1   8.260197"
      ]
     },
     "execution_count": 16,
     "metadata": {},
     "output_type": "execute_result"
    }
   ],
   "source": [
    "data = data.drop('charges',axis=1)\n",
    "data.head()"
   ]
  },
  {
   "cell_type": "code",
   "execution_count": 17,
   "metadata": {},
   "outputs": [],
   "source": [
    "X = data[['age', 'bmi', 'children', 'sex_', 'smoker_', 'region_']]\n",
    "Y = data['charges_y']"
   ]
  },
  {
   "cell_type": "markdown",
   "metadata": {},
   "source": [
    "Check for the normality in the X variables. <br>\n",
    "Hint: Some variables make not look normal but realize that they are actually discrete valued.\n",
    "    No transformation required."
   ]
  },
  {
   "cell_type": "code",
   "execution_count": 18,
   "metadata": {},
   "outputs": [
    {
     "data": {
      "text/plain": [
       "array([[<matplotlib.axes._subplots.AxesSubplot object at 0x000002B983D907C8>,\n",
       "        <matplotlib.axes._subplots.AxesSubplot object at 0x000002B983DC31C8>],\n",
       "       [<matplotlib.axes._subplots.AxesSubplot object at 0x000002B983DF7F48>,\n",
       "        <matplotlib.axes._subplots.AxesSubplot object at 0x000002B983E340C8>],\n",
       "       [<matplotlib.axes._subplots.AxesSubplot object at 0x000002B983E6D1C8>,\n",
       "        <matplotlib.axes._subplots.AxesSubplot object at 0x000002B983E9DF48>]],\n",
       "      dtype=object)"
      ]
     },
     "execution_count": 18,
     "metadata": {},
     "output_type": "execute_result"
    },
    {
     "data": {
      "image/png": "[encoded data removed]",
      "text/plain": [
       "<Figure size 432x288 with 6 Axes>"
      ]
     },
     "metadata": {
      "needs_background": "light"
     },
     "output_type": "display_data"
    }
   ],
   "source": [
    "X.hist(bins=20)"
   ]
  },
  {
   "cell_type": "markdown",
   "metadata": {},
   "source": [
    "Check for Assumption 4-No multicollinearity in the data<br>\n",
    "Try both the approaches-correlation and VIF.<br>\n",
    "Hint: You will find no high correlation. VIF might be high for a few variables but do not eliminate them because they are important as per the domain knowledge."
   ]
  },
  {
   "cell_type": "code",
   "execution_count": 19,
   "metadata": {},
   "outputs": [
    {
     "data": {
      "text/plain": [
       "<matplotlib.axes._subplots.AxesSubplot at 0x2b9840f0608>"
      ]
     },
     "execution_count": 19,
     "metadata": {},
     "output_type": "execute_result"
    },
    {
     "data": {
      "image/png": "[encoded data removed]",
      "text/plain": [
       "<Figure size 720x432 with 2 Axes>"
      ]
     },
     "metadata": {
      "needs_background": "light"
     },
     "output_type": "display_data"
    }
   ],
   "source": [
    "plt.figure(figsize=(10,6))\n",
    "corr_df = X.corr(method='pearson')\n",
    "sns.heatmap(corr_df, vmax=1.0, vmin=-1.0, annot=True)"
   ]
  },
  {
   "cell_type": "code",
   "execution_count": 20,
   "metadata": {},
   "outputs": [
    {
     "data": {
      "text/html": [
       "<div>\n",
       "<style scoped>\n",
       "    .dataframe tbody tr th:only-of-type {\n",
       "        vertical-align: middle;\n",
       "    }\n",
       "\n",
       "    .dataframe tbody tr th {\n",
       "        vertical-align: top;\n",
       "    }\n",
       "\n",
       "    .dataframe thead th {\n",
       "        text-align: right;\n",
       "    }\n",
       "</style>\n",
       "<table border=\"1\" class=\"dataframe\">\n",
       "  <thead>\n",
       "    <tr style=\"text-align: right;\">\n",
       "      <th></th>\n",
       "      <th>features</th>\n",
       "      <th>VIF factor</th>\n",
       "    </tr>\n",
       "  </thead>\n",
       "  <tbody>\n",
       "    <tr>\n",
       "      <td>0</td>\n",
       "      <td>age</td>\n",
       "      <td>7.55</td>\n",
       "    </tr>\n",
       "    <tr>\n",
       "      <td>1</td>\n",
       "      <td>bmi</td>\n",
       "      <td>10.37</td>\n",
       "    </tr>\n",
       "    <tr>\n",
       "      <td>2</td>\n",
       "      <td>children</td>\n",
       "      <td>1.80</td>\n",
       "    </tr>\n",
       "    <tr>\n",
       "      <td>3</td>\n",
       "      <td>sex_</td>\n",
       "      <td>2.00</td>\n",
       "    </tr>\n",
       "    <tr>\n",
       "      <td>4</td>\n",
       "      <td>smoker_</td>\n",
       "      <td>1.26</td>\n",
       "    </tr>\n",
       "    <tr>\n",
       "      <td>5</td>\n",
       "      <td>region_</td>\n",
       "      <td>2.92</td>\n",
       "    </tr>\n",
       "  </tbody>\n",
       "</table>\n",
       "</div>"
      ],
      "text/plain": [
       "   features  VIF factor\n",
       "0       age        7.55\n",
       "1       bmi       10.37\n",
       "2  children        1.80\n",
       "3      sex_        2.00\n",
       "4   smoker_        1.26\n",
       "5   region_        2.92"
      ]
     },
     "execution_count": 20,
     "metadata": {},
     "output_type": "execute_result"
    }
   ],
   "source": [
    "from statsmodels.stats.outliers_influence import variance_inflation_factor as vif\n",
    "vif_df = pd.DataFrame()\n",
    "vif_df['features'] = X.columns\n",
    "vif_df['VIF factor'] = [vif(X.values,i) for i in range(X.shape[1])]\n",
    "vif_df.round(2)"
   ]
  },
  {
   "cell_type": "markdown",
   "metadata": {},
   "source": [
    "Split the data into train and test.<br>\n",
    "Hint: Make sure you are considering the log transformed Y."
   ]
  },
  {
   "cell_type": "code",
   "execution_count": 32,
   "metadata": {},
   "outputs": [],
   "source": [
    "X = data[['age', 'bmi', 'children', 'sex_', 'smoker_', 'region_']]\n",
    "y = data['charges_y']"
   ]
  },
  {
   "cell_type": "code",
   "execution_count": 33,
   "metadata": {},
   "outputs": [],
   "source": [
    "from sklearn.model_selection import train_test_split\n",
    "X_train, X_test, y_train, y_test = train_test_split(X, y, test_size=0.3, random_state=10)"
   ]
  },
  {
   "cell_type": "markdown",
   "metadata": {},
   "source": [
    "Build a base Linear Regression model using sklearn."
   ]
  },
  {
   "cell_type": "code",
   "execution_count": 23,
   "metadata": {
    "scrolled": true
   },
   "outputs": [
    {
     "name": "stdout",
     "output_type": "stream",
     "text": [
      "7.0424464024156395\n",
      "[ 0.0352433   0.0111782   0.09942699 -0.07018148  1.56899189 -0.04278656]\n"
     ]
    }
   ],
   "source": [
    "from sklearn.linear_model import LinearRegression\n",
    "lm = LinearRegression()\n",
    "lm.fit(X_train, y_train)\n",
    "print(lm.intercept_)\n",
    "print(lm.coef_)"
   ]
  },
  {
   "cell_type": "markdown",
   "metadata": {},
   "source": [
    "Create a zipped list of the slope coefficients to understand the equation better.<br>\n",
    "Write down the equation manually and try making sense out of it."
   ]
  },
  {
   "cell_type": "code",
   "execution_count": 24,
   "metadata": {
    "scrolled": true
   },
   "outputs": [
    {
     "data": {
      "text/html": [
       "<div>\n",
       "<style scoped>\n",
       "    .dataframe tbody tr th:only-of-type {\n",
       "        vertical-align: middle;\n",
       "    }\n",
       "\n",
       "    .dataframe tbody tr th {\n",
       "        vertical-align: top;\n",
       "    }\n",
       "\n",
       "    .dataframe thead th {\n",
       "        text-align: right;\n",
       "    }\n",
       "</style>\n",
       "<table border=\"1\" class=\"dataframe\">\n",
       "  <thead>\n",
       "    <tr style=\"text-align: right;\">\n",
       "      <th></th>\n",
       "      <th>column</th>\n",
       "    </tr>\n",
       "  </thead>\n",
       "  <tbody>\n",
       "    <tr>\n",
       "      <td>age</td>\n",
       "      <td>0.035243</td>\n",
       "    </tr>\n",
       "    <tr>\n",
       "      <td>bmi</td>\n",
       "      <td>0.011178</td>\n",
       "    </tr>\n",
       "    <tr>\n",
       "      <td>children</td>\n",
       "      <td>0.099427</td>\n",
       "    </tr>\n",
       "    <tr>\n",
       "      <td>sex_</td>\n",
       "      <td>-0.070181</td>\n",
       "    </tr>\n",
       "    <tr>\n",
       "      <td>smoker_</td>\n",
       "      <td>1.568992</td>\n",
       "    </tr>\n",
       "    <tr>\n",
       "      <td>region_</td>\n",
       "      <td>-0.042787</td>\n",
       "    </tr>\n",
       "  </tbody>\n",
       "</table>\n",
       "</div>"
      ],
      "text/plain": [
       "            column\n",
       "age       0.035243\n",
       "bmi       0.011178\n",
       "children  0.099427\n",
       "sex_     -0.070181\n",
       "smoker_   1.568992\n",
       "region_  -0.042787"
      ]
     },
     "execution_count": 24,
     "metadata": {},
     "output_type": "execute_result"
    }
   ],
   "source": [
    "cdf = pd.DataFrame(lm.coef_, X.columns, columns=['column'])\n",
    "cdf"
   ]
  },
  {
   "cell_type": "markdown",
   "metadata": {},
   "source": [
    "Predict using the model."
   ]
  },
  {
   "cell_type": "code",
   "execution_count": 25,
   "metadata": {},
   "outputs": [
    {
     "data": {
      "text/plain": [
       "array([ 8.91202609,  8.56894447,  9.43739803,  9.38706377,  8.31268401,\n",
       "        8.94047096,  9.2415172 ,  9.63018096,  8.97448562, 10.54982113,\n",
       "        8.13392381,  8.28053661,  8.7786953 ,  9.15631579,  9.23496085,\n",
       "        9.38292582,  8.31732968,  9.80740634,  9.19175848, 10.22271157,\n",
       "       10.54182548,  8.06219616,  7.97098006,  8.78589234,  8.43887365,\n",
       "        9.42945103,  9.00817552,  9.4410749 ,  8.41156082, 10.20315578,\n",
       "        7.73485623, 10.38083015,  8.89817667,  8.96925349,  8.44345347,\n",
       "        8.87370581,  9.45013244,  9.08679667,  9.11044688,  8.89974701,\n",
       "        9.58911775,  9.17403231,  8.55726326,  9.00093224,  7.98094222,\n",
       "        8.82916407,  8.94263662, 10.62857798,  9.3277211 ,  9.2600054 ,\n",
       "        9.9993291 ,  8.31379578,  8.90598596,  9.64115791,  9.10502318,\n",
       "        9.38942878,  9.3185899 ,  8.62910173,  8.7102396 , 10.70357012,\n",
       "        7.89124122, 10.62483464, 11.0905674 ,  7.9620672 , 10.01160997,\n",
       "        8.87003354,  8.48277172,  8.91524868,  8.87161932,  8.93934335,\n",
       "        8.83825749,  7.95617944,  8.86051689,  8.8991201 ,  8.98735169,\n",
       "        9.34095906,  8.56008373,  8.81795898,  7.82741573,  9.33348446,\n",
       "        9.2753835 ,  9.18560683,  9.76346674,  8.26731532, 10.77046022,\n",
       "        8.30707772,  7.8936405 ,  7.99118667,  8.73294946,  9.18454613,\n",
       "       10.22846163, 10.38100225,  9.16890108, 10.51801685,  9.40852161,\n",
       "        8.42323102,  8.7327916 ,  9.25246079,  8.51778273,  9.34567246,\n",
       "        8.79139734,  8.01345721,  8.3226881 ,  8.49932647,  9.11359156,\n",
       "        8.99106818, 10.32674487, 10.00481786, 10.55926324,  8.48928157,\n",
       "        9.1791834 ,  8.80401782,  8.48616857,  9.56110076,  9.88074361,\n",
       "       10.33829469,  8.47591661, 10.59046301,  8.82834895,  8.33148865,\n",
       "       10.4816806 ,  9.08050893,  8.77679864,  8.03636848, 11.06825453,\n",
       "        8.24277014,  9.41757016,  8.71125933,  8.4921958 ,  9.43564351,\n",
       "        9.16818604, 11.00482457,  9.69570239, 10.70072345,  8.94096148,\n",
       "       10.30052621,  9.33611309,  9.21467444,  9.85465704,  8.6200122 ,\n",
       "        8.79465178, 10.49536893,  9.52025536,  8.19500393,  8.29275015,\n",
       "        9.89583957,  9.26717933,  8.86645827,  9.01072097,  8.27977054,\n",
       "        8.40529094,  8.75138531,  7.85334512, 11.0842114 ,  9.42677633,\n",
       "        7.93790616,  9.42103944,  7.78051715,  9.60142613, 10.87401318,\n",
       "        9.38652648,  8.16576593,  8.7466996 ,  9.33008734,  8.29765605,\n",
       "       10.97350519,  8.90458492,  8.57895875,  7.93922995,  9.23579627,\n",
       "        9.23015598,  8.92263033,  8.59355331,  8.73345287, 10.13561824,\n",
       "        8.76677332,  8.22252983,  9.15604748,  8.96850836,  9.39897632,\n",
       "       11.08997221,  9.29778744,  8.46783606,  8.00184545,  9.47152107,\n",
       "        8.34485573, 10.86795533,  9.11769661, 10.4877613 ,  8.09647725,\n",
       "        9.05044054,  8.94697651,  8.52312501,  8.92981057,  9.4506649 ,\n",
       "        9.1703099 ,  9.52413291,  8.44676033,  9.38524933,  8.69648637,\n",
       "        8.62128839,  7.8721265 ,  9.54658028,  9.00909636,  7.96996999,\n",
       "       10.74871565, 10.00883021,  9.78219976, 10.11006194,  8.0918544 ,\n",
       "        8.90952631, 10.2737117 ,  8.73916989,  8.81842695, 10.12884197,\n",
       "        8.45556018,  8.77114423,  8.1511678 ,  9.67540793,  9.2909068 ,\n",
       "        8.61426026,  8.55693261,  7.95717499,  9.50207158,  7.88624705,\n",
       "        9.58089867,  9.50326073,  8.01915406,  8.8593863 ,  9.90173634,\n",
       "        8.64480038,  9.46904428,  8.73328107,  9.84426602,  9.20921836,\n",
       "        8.21823602,  9.43865518, 11.14184939,  7.82364739,  9.21814653,\n",
       "        9.25942701,  9.76861796,  9.1201996 , 10.25386167,  9.30730571,\n",
       "        8.17420844,  9.24518193,  8.4083202 ,  9.52305232,  8.0299851 ,\n",
       "        8.42256609,  9.50033693, 10.31795372,  8.47571428,  8.96803289,\n",
       "        9.16597997,  9.09184326,  8.51918632,  8.0433229 ,  9.33366837,\n",
       "        8.29561269, 11.03035319,  8.70669561, 10.75621044,  8.36518149,\n",
       "        8.10272857,  9.43882431,  8.96784412,  7.9962624 ,  9.14075432,\n",
       "        8.01345721,  7.90224771,  9.08411995,  8.98595547,  8.98390027,\n",
       "        8.11852019,  9.62426336,  7.95131424,  8.91036265, 10.51665774,\n",
       "        7.78504835,  7.99347592,  9.40424862,  9.1121509 , 10.53919755,\n",
       "        8.04268714,  8.50407693,  8.86265632, 10.20331863,  8.08925345,\n",
       "        9.01169383,  8.46476004,  8.66755231,  8.45051455,  9.45704732,\n",
       "        8.39960861, 10.09323568,  9.13340935,  8.65951072,  9.6505425 ,\n",
       "       10.82264129,  8.67571077,  7.85184009, 10.04256875,  9.17287378,\n",
       "        9.21286   ,  9.85151467,  8.95560197,  9.40125323,  9.25377115,\n",
       "        8.74560341,  9.13420862,  8.81482399,  7.97814191,  9.23176164,\n",
       "       11.04344323, 11.12127976,  9.22353789,  9.08204514,  9.42970052,\n",
       "        8.79861061,  8.56185035,  9.37260441,  9.18455622,  8.1271027 ,\n",
       "        8.99270512,  8.21778863, 11.12474877,  9.18608527,  7.90593652,\n",
       "       10.51699203,  9.49781377,  9.24569692,  9.73943871,  8.40003048,\n",
       "        9.16688068,  9.11920834,  8.14915034, 10.03063279, 10.77189592,\n",
       "        9.5595154 ,  8.03973781,  8.88372709,  9.35513159,  8.82153736,\n",
       "        9.54849132,  9.00441805,  8.65772691,  9.06922702, 10.27348854,\n",
       "       10.26045172,  8.78050048,  7.79162388,  8.00283792,  9.67942819,\n",
       "        8.63603046,  9.75703805,  8.8916909 ,  8.04743893,  8.31454588,\n",
       "        9.30688921,  9.05697869,  8.24474247,  8.48744305,  8.59257521,\n",
       "        8.38333925,  9.4229279 ,  9.54409124,  8.09803439,  8.26622247,\n",
       "        9.03553511,  9.02028841,  9.58619353,  8.71437083,  8.41135419,\n",
       "        9.29323031,  8.59173483,  8.64373227,  9.12204496,  8.30654004,\n",
       "        8.57677298,  9.00109078, 10.18865194,  8.75907151,  8.55336567,\n",
       "        9.50489406,  8.0487274 ,  9.56264384,  9.90602288,  8.00059719,\n",
       "        9.38804428,  9.11486872,  8.92315726,  8.83003037,  9.07171404,\n",
       "        9.54468468,  9.08578176, 10.90318507,  8.3854679 , 10.34968005,\n",
       "        7.9641271 ,  9.05129098])"
      ]
     },
     "execution_count": 25,
     "metadata": {},
     "output_type": "execute_result"
    }
   ],
   "source": [
    "predictions = lm.predict(X_test)\n",
    "predictions"
   ]
  },
  {
   "cell_type": "markdown",
   "metadata": {},
   "source": [
    "Evaluate the model."
   ]
  },
  {
   "cell_type": "code",
   "execution_count": 26,
   "metadata": {},
   "outputs": [],
   "source": [
    "from sklearn.metrics import r2_score"
   ]
  },
  {
   "cell_type": "code",
   "execution_count": 27,
   "metadata": {
    "scrolled": true
   },
   "outputs": [
    {
     "name": "stdout",
     "output_type": "stream",
     "text": [
      "0.2773235344428167\n",
      "0.2057227028675769\n",
      "0.4535666465554725\n",
      "0.7374526728907583\n"
     ]
    }
   ],
   "source": [
    "from sklearn import metrics\n",
    "print(metrics.mean_absolute_error(y_test, predictions))\n",
    "print(metrics.mean_squared_error(y_test, predictions))\n",
    "print(np.sqrt(metrics.mean_squared_error(y_test, predictions)))\n",
    "print(r2_score(y_test, predictions))"
   ]
  },
  {
   "cell_type": "code",
   "execution_count": 28,
   "metadata": {},
   "outputs": [
    {
     "name": "stderr",
     "output_type": "stream",
     "text": [
      "C:\\Users\\HP\\Anaconda3\\lib\\site-packages\\ipykernel_launcher.py:3: SettingWithCopyWarning: \n",
      "A value is trying to be set on a copy of a slice from a DataFrame.\n",
      "Try using .loc[row_indexer,col_indexer] = value instead\n",
      "\n",
      "See the caveats in the documentation: http://pandas.pydata.org/pandas-docs/stable/user_guide/indexing.html#returning-a-view-versus-a-copy\n",
      "  This is separate from the ipykernel package so we can avoid doing imports until\n",
      "C:\\Users\\HP\\Anaconda3\\lib\\site-packages\\ipykernel_launcher.py:4: SettingWithCopyWarning: \n",
      "A value is trying to be set on a copy of a slice from a DataFrame.\n",
      "Try using .loc[row_indexer,col_indexer] = value instead\n",
      "\n",
      "See the caveats in the documentation: http://pandas.pydata.org/pandas-docs/stable/user_guide/indexing.html#returning-a-view-versus-a-copy\n",
      "  after removing the cwd from sys.path.\n"
     ]
    },
    {
     "data": {
      "text/html": [
       "<div>\n",
       "<style scoped>\n",
       "    .dataframe tbody tr th:only-of-type {\n",
       "        vertical-align: middle;\n",
       "    }\n",
       "\n",
       "    .dataframe tbody tr th {\n",
       "        vertical-align: top;\n",
       "    }\n",
       "\n",
       "    .dataframe thead th {\n",
       "        text-align: right;\n",
       "    }\n",
       "</style>\n",
       "<table border=\"1\" class=\"dataframe\">\n",
       "  <thead>\n",
       "    <tr style=\"text-align: right;\">\n",
       "      <th></th>\n",
       "      <th>age</th>\n",
       "      <th>bmi</th>\n",
       "      <th>children</th>\n",
       "      <th>sex_</th>\n",
       "      <th>smoker_</th>\n",
       "      <th>region_</th>\n",
       "      <th>Actual Sales</th>\n",
       "      <th>Predicted_sales</th>\n",
       "    </tr>\n",
       "  </thead>\n",
       "  <tbody>\n",
       "    <tr>\n",
       "      <td>7</td>\n",
       "      <td>37</td>\n",
       "      <td>27.740</td>\n",
       "      <td>3</td>\n",
       "      <td>0</td>\n",
       "      <td>0</td>\n",
       "      <td>1</td>\n",
       "      <td>8.893093</td>\n",
       "      <td>8.912026</td>\n",
       "    </tr>\n",
       "    <tr>\n",
       "      <td>999</td>\n",
       "      <td>36</td>\n",
       "      <td>26.885</td>\n",
       "      <td>0</td>\n",
       "      <td>0</td>\n",
       "      <td>0</td>\n",
       "      <td>1</td>\n",
       "      <td>8.569372</td>\n",
       "      <td>8.568944</td>\n",
       "    </tr>\n",
       "    <tr>\n",
       "      <td>1209</td>\n",
       "      <td>59</td>\n",
       "      <td>37.100</td>\n",
       "      <td>1</td>\n",
       "      <td>1</td>\n",
       "      <td>0</td>\n",
       "      <td>3</td>\n",
       "      <td>9.421182</td>\n",
       "      <td>9.437398</td>\n",
       "    </tr>\n",
       "    <tr>\n",
       "      <td>491</td>\n",
       "      <td>61</td>\n",
       "      <td>25.080</td>\n",
       "      <td>0</td>\n",
       "      <td>0</td>\n",
       "      <td>0</td>\n",
       "      <td>2</td>\n",
       "      <td>10.106963</td>\n",
       "      <td>9.387064</td>\n",
       "    </tr>\n",
       "    <tr>\n",
       "      <td>625</td>\n",
       "      <td>29</td>\n",
       "      <td>26.030</td>\n",
       "      <td>0</td>\n",
       "      <td>0</td>\n",
       "      <td>0</td>\n",
       "      <td>1</td>\n",
       "      <td>8.225895</td>\n",
       "      <td>8.312684</td>\n",
       "    </tr>\n",
       "    <tr>\n",
       "      <td>...</td>\n",
       "      <td>...</td>\n",
       "      <td>...</td>\n",
       "      <td>...</td>\n",
       "      <td>...</td>\n",
       "      <td>...</td>\n",
       "      <td>...</td>\n",
       "      <td>...</td>\n",
       "      <td>...</td>\n",
       "    </tr>\n",
       "    <tr>\n",
       "      <td>854</td>\n",
       "      <td>49</td>\n",
       "      <td>23.845</td>\n",
       "      <td>3</td>\n",
       "      <td>0</td>\n",
       "      <td>1</td>\n",
       "      <td>0</td>\n",
       "      <td>10.090254</td>\n",
       "      <td>10.903185</td>\n",
       "    </tr>\n",
       "    <tr>\n",
       "      <td>554</td>\n",
       "      <td>25</td>\n",
       "      <td>41.325</td>\n",
       "      <td>0</td>\n",
       "      <td>0</td>\n",
       "      <td>0</td>\n",
       "      <td>0</td>\n",
       "      <td>9.791377</td>\n",
       "      <td>8.385468</td>\n",
       "    </tr>\n",
       "    <tr>\n",
       "      <td>1278</td>\n",
       "      <td>39</td>\n",
       "      <td>29.925</td>\n",
       "      <td>1</td>\n",
       "      <td>1</td>\n",
       "      <td>1</td>\n",
       "      <td>0</td>\n",
       "      <td>10.019582</td>\n",
       "      <td>10.349680</td>\n",
       "    </tr>\n",
       "    <tr>\n",
       "      <td>374</td>\n",
       "      <td>20</td>\n",
       "      <td>33.330</td>\n",
       "      <td>0</td>\n",
       "      <td>1</td>\n",
       "      <td>0</td>\n",
       "      <td>2</td>\n",
       "      <td>7.238158</td>\n",
       "      <td>7.964127</td>\n",
       "    </tr>\n",
       "    <tr>\n",
       "      <td>6</td>\n",
       "      <td>46</td>\n",
       "      <td>33.440</td>\n",
       "      <td>1</td>\n",
       "      <td>0</td>\n",
       "      <td>0</td>\n",
       "      <td>2</td>\n",
       "      <td>9.016827</td>\n",
       "      <td>9.051291</td>\n",
       "    </tr>\n",
       "  </tbody>\n",
       "</table>\n",
       "<p>402 rows × 8 columns</p>\n",
       "</div>"
      ],
      "text/plain": [
       "      age     bmi  children  sex_  smoker_  region_  Actual Sales  \\\n",
       "7      37  27.740         3     0        0        1      8.893093   \n",
       "999    36  26.885         0     0        0        1      8.569372   \n",
       "1209   59  37.100         1     1        0        3      9.421182   \n",
       "491    61  25.080         0     0        0        2     10.106963   \n",
       "625    29  26.030         0     0        0        1      8.225895   \n",
       "...   ...     ...       ...   ...      ...      ...           ...   \n",
       "854    49  23.845         3     0        1        0     10.090254   \n",
       "554    25  41.325         0     0        0        0      9.791377   \n",
       "1278   39  29.925         1     1        1        0     10.019582   \n",
       "374    20  33.330         0     1        0        2      7.238158   \n",
       "6      46  33.440         1     0        0        2      9.016827   \n",
       "\n",
       "      Predicted_sales  \n",
       "7            8.912026  \n",
       "999          8.568944  \n",
       "1209         9.437398  \n",
       "491          9.387064  \n",
       "625          8.312684  \n",
       "...               ...  \n",
       "854         10.903185  \n",
       "554          8.385468  \n",
       "1278        10.349680  \n",
       "374          7.964127  \n",
       "6            9.051291  \n",
       "\n",
       "[402 rows x 8 columns]"
      ]
     },
     "execution_count": 28,
     "metadata": {},
     "output_type": "execute_result"
    }
   ],
   "source": [
    "new_df = pd.DataFrame()\n",
    "new_df = X_test\n",
    "new_df['Actual Sales'] = y_test\n",
    "new_df['Predicted_sales'] = predictions\n",
    "new_df"
   ]
  },
  {
   "cell_type": "code",
   "execution_count": 29,
   "metadata": {},
   "outputs": [
    {
     "name": "stderr",
     "output_type": "stream",
     "text": [
      "C:\\Users\\HP\\Anaconda3\\lib\\site-packages\\ipykernel_launcher.py:1: SettingWithCopyWarning: \n",
      "A value is trying to be set on a copy of a slice from a DataFrame.\n",
      "Try using .loc[row_indexer,col_indexer] = value instead\n",
      "\n",
      "See the caveats in the documentation: http://pandas.pydata.org/pandas-docs/stable/user_guide/indexing.html#returning-a-view-versus-a-copy\n",
      "  \"\"\"Entry point for launching an IPython kernel.\n"
     ]
    },
    {
     "data": {
      "text/html": [
       "<div>\n",
       "<style scoped>\n",
       "    .dataframe tbody tr th:only-of-type {\n",
       "        vertical-align: middle;\n",
       "    }\n",
       "\n",
       "    .dataframe tbody tr th {\n",
       "        vertical-align: top;\n",
       "    }\n",
       "\n",
       "    .dataframe thead th {\n",
       "        text-align: right;\n",
       "    }\n",
       "</style>\n",
       "<table border=\"1\" class=\"dataframe\">\n",
       "  <thead>\n",
       "    <tr style=\"text-align: right;\">\n",
       "      <th></th>\n",
       "      <th>age</th>\n",
       "      <th>bmi</th>\n",
       "      <th>children</th>\n",
       "      <th>sex_</th>\n",
       "      <th>smoker_</th>\n",
       "      <th>region_</th>\n",
       "      <th>Actual Sales</th>\n",
       "      <th>Predicted_sales</th>\n",
       "      <th>deviation</th>\n",
       "    </tr>\n",
       "  </thead>\n",
       "  <tbody>\n",
       "    <tr>\n",
       "      <td>7</td>\n",
       "      <td>37</td>\n",
       "      <td>27.740</td>\n",
       "      <td>3</td>\n",
       "      <td>0</td>\n",
       "      <td>0</td>\n",
       "      <td>1</td>\n",
       "      <td>8.893093</td>\n",
       "      <td>8.912026</td>\n",
       "      <td>-0.018933</td>\n",
       "    </tr>\n",
       "    <tr>\n",
       "      <td>999</td>\n",
       "      <td>36</td>\n",
       "      <td>26.885</td>\n",
       "      <td>0</td>\n",
       "      <td>0</td>\n",
       "      <td>0</td>\n",
       "      <td>1</td>\n",
       "      <td>8.569372</td>\n",
       "      <td>8.568944</td>\n",
       "      <td>0.000427</td>\n",
       "    </tr>\n",
       "    <tr>\n",
       "      <td>1209</td>\n",
       "      <td>59</td>\n",
       "      <td>37.100</td>\n",
       "      <td>1</td>\n",
       "      <td>1</td>\n",
       "      <td>0</td>\n",
       "      <td>3</td>\n",
       "      <td>9.421182</td>\n",
       "      <td>9.437398</td>\n",
       "      <td>-0.016216</td>\n",
       "    </tr>\n",
       "    <tr>\n",
       "      <td>491</td>\n",
       "      <td>61</td>\n",
       "      <td>25.080</td>\n",
       "      <td>0</td>\n",
       "      <td>0</td>\n",
       "      <td>0</td>\n",
       "      <td>2</td>\n",
       "      <td>10.106963</td>\n",
       "      <td>9.387064</td>\n",
       "      <td>0.719899</td>\n",
       "    </tr>\n",
       "    <tr>\n",
       "      <td>625</td>\n",
       "      <td>29</td>\n",
       "      <td>26.030</td>\n",
       "      <td>0</td>\n",
       "      <td>0</td>\n",
       "      <td>0</td>\n",
       "      <td>1</td>\n",
       "      <td>8.225895</td>\n",
       "      <td>8.312684</td>\n",
       "      <td>-0.086789</td>\n",
       "    </tr>\n",
       "  </tbody>\n",
       "</table>\n",
       "</div>"
      ],
      "text/plain": [
       "      age     bmi  children  sex_  smoker_  region_  Actual Sales  \\\n",
       "7      37  27.740         3     0        0        1      8.893093   \n",
       "999    36  26.885         0     0        0        1      8.569372   \n",
       "1209   59  37.100         1     1        0        3      9.421182   \n",
       "491    61  25.080         0     0        0        2     10.106963   \n",
       "625    29  26.030         0     0        0        1      8.225895   \n",
       "\n",
       "      Predicted_sales  deviation  \n",
       "7            8.912026  -0.018933  \n",
       "999          8.568944   0.000427  \n",
       "1209         9.437398  -0.016216  \n",
       "491          9.387064   0.719899  \n",
       "625          8.312684  -0.086789  "
      ]
     },
     "execution_count": 29,
     "metadata": {},
     "output_type": "execute_result"
    }
   ],
   "source": [
    "new_df['deviation'] = new_df['Actual Sales'] - new_df['Predicted_sales']\n",
    "new_df.head()"
   ]
  },
  {
   "cell_type": "markdown",
   "metadata": {},
   "source": [
    "Perform Ridge and Lasso regression. Evaluate them as well.<br>\n",
    "Hint:Look at the fun in the Lasso Regression, ignore such model."
   ]
  },
  {
   "cell_type": "code",
   "execution_count": 34,
   "metadata": {},
   "outputs": [
    {
     "name": "stdout",
     "output_type": "stream",
     "text": [
      "7.044356761111713\n",
      "[ 0.03524083  0.01118039  0.09925573 -0.06922454  1.55870554 -0.04282443]\n"
     ]
    }
   ],
   "source": [
    "from sklearn.linear_model import Ridge\n",
    "lm = Ridge()\n",
    "lm.fit(X_train, y_train)\n",
    "print(lm.intercept_)\n",
    "print(lm.coef_) "
   ]
  },
  {
   "cell_type": "code",
   "execution_count": 35,
   "metadata": {},
   "outputs": [
    {
     "name": "stdout",
     "output_type": "stream",
     "text": [
      "0.27751328883577786\n",
      "0.20553766835291548\n",
      "0.45336262346262673\n",
      "0.7376888175484464\n"
     ]
    }
   ],
   "source": [
    "pred = lm.predict(X_test)\n",
    "print(metrics.mean_absolute_error(y_test, pred))\n",
    "print(metrics.mean_squared_error(y_test, pred))\n",
    "print(np.sqrt(metrics.mean_squared_error(y_test, pred)))\n",
    "print(r2_score(y_test, pred))"
   ]
  },
  {
   "cell_type": "code",
   "execution_count": 36,
   "metadata": {},
   "outputs": [
    {
     "name": "stdout",
     "output_type": "stream",
     "text": [
      "7.8888757936390075\n",
      "[ 0.03086241  0.          0.          0.          0.         -0.        ]\n"
     ]
    }
   ],
   "source": [
    "from sklearn.linear_model import Lasso\n",
    "lm = Lasso()\n",
    "lm.fit(X_train, y_train)\n",
    "print(lm.intercept_)\n",
    "print(lm.coef_)"
   ]
  },
  {
   "cell_type": "code",
   "execution_count": 37,
   "metadata": {
    "scrolled": true
   },
   "outputs": [
    {
     "name": "stdout",
     "output_type": "stream",
     "text": [
      "0.618132713042502\n",
      "0.6007662473721023\n",
      "0.7750911219799271\n",
      "0.23329039397987605\n"
     ]
    }
   ],
   "source": [
    "pre = lm.predict(X_test)\n",
    "print(metrics.mean_absolute_error(y_test, pre))\n",
    "print(metrics.mean_squared_error(y_test, pre))\n",
    "print(np.sqrt(metrics.mean_squared_error(y_test, pre)))\n",
    "print(r2_score(y_test, pre))"
   ]
  },
  {
   "cell_type": "markdown",
   "metadata": {},
   "source": [
    "Create a sample dataframe named \"new_df\" to hold just the training data for the statsmodels model."
   ]
  },
  {
   "cell_type": "code",
   "execution_count": 38,
   "metadata": {},
   "outputs": [
    {
     "name": "stderr",
     "output_type": "stream",
     "text": [
      "C:\\Users\\HP\\Anaconda3\\lib\\site-packages\\ipykernel_launcher.py:4: SettingWithCopyWarning: \n",
      "A value is trying to be set on a copy of a slice from a DataFrame.\n",
      "Try using .loc[row_indexer,col_indexer] = value instead\n",
      "\n",
      "See the caveats in the documentation: http://pandas.pydata.org/pandas-docs/stable/user_guide/indexing.html#returning-a-view-versus-a-copy\n",
      "  after removing the cwd from sys.path.\n"
     ]
    },
    {
     "data": {
      "text/plain": [
       "(936, 7)"
      ]
     },
     "execution_count": 38,
     "metadata": {},
     "output_type": "execute_result"
    }
   ],
   "source": [
    "new_df = pd.DataFrame()\n",
    "new_df = X_train\n",
    "\n",
    "new_df['sales'] = y_train\n",
    "new_df.shape"
   ]
  },
  {
   "cell_type": "markdown",
   "metadata": {},
   "source": [
    "Build OLS model using statsmodels library. Check the summary to evaluate.<br>\n",
    "Hint: No high p-values. <br>\n",
    "Check for the Assumption 5- No autocorrelation "
   ]
  },
  {
   "cell_type": "code",
   "execution_count": 39,
   "metadata": {},
   "outputs": [],
   "source": [
    "import statsmodels.formula.api as sm\n",
    "\n",
    "lm_model = sm.ols(formula='charges_y ~ age + bmi + children + sex_ + smoker_  + region_',data=data).fit()"
   ]
  },
  {
   "cell_type": "code",
   "execution_count": 40,
   "metadata": {},
   "outputs": [
    {
     "name": "stdout",
     "output_type": "stream",
     "text": [
      "Intercept    7.044016\n",
      "age          0.034656\n",
      "bmi          0.012283\n",
      "children     0.102395\n",
      "sex_        -0.075341\n",
      "smoker_      1.549838\n",
      "region_     -0.047607\n",
      "dtype: float64\n",
      "                            OLS Regression Results                            \n",
      "==============================================================================\n",
      "Dep. Variable:              charges_y   R-squared:                       0.767\n",
      "Model:                            OLS   Adj. R-squared:                  0.766\n",
      "Method:                 Least Squares   F-statistic:                     730.2\n",
      "Date:                Mon, 29 Jun 2020   Prob (F-statistic):               0.00\n",
      "Time:                        15:40:31   Log-Likelihood:                -811.26\n",
      "No. Observations:                1338   AIC:                             1637.\n",
      "Df Residuals:                    1331   BIC:                             1673.\n",
      "Df Model:                           6                                         \n",
      "Covariance Type:            nonrobust                                         \n",
      "==============================================================================\n",
      "                 coef    std err          t      P>|t|      [0.025      0.975]\n",
      "------------------------------------------------------------------------------\n",
      "Intercept      7.0440      0.070    100.458      0.000       6.906       7.182\n",
      "age            0.0347      0.001     39.717      0.000       0.033       0.036\n",
      "bmi            0.0123      0.002      6.035      0.000       0.008       0.016\n",
      "children       0.1024      0.010     10.133      0.000       0.083       0.122\n",
      "sex_          -0.0753      0.024     -3.084      0.002      -0.123      -0.027\n",
      "smoker_        1.5498      0.030     51.260      0.000       1.491       1.609\n",
      "region_       -0.0476      0.011     -4.268      0.000      -0.069      -0.026\n",
      "==============================================================================\n",
      "Omnibus:                      456.560   Durbin-Watson:                   2.046\n",
      "Prob(Omnibus):                  0.000   Jarque-Bera (JB):             1625.296\n",
      "Skew:                           1.655   Prob(JB):                         0.00\n",
      "Kurtosis:                       7.266   Cond. No.                         296.\n",
      "==============================================================================\n",
      "\n",
      "Warnings:\n",
      "[1] Standard Errors assume that the covariance matrix of the errors is correctly specified.\n"
     ]
    }
   ],
   "source": [
    "print(lm_model.params)\n",
    "print(lm_model.summary()) "
   ]
  },
  {
   "cell_type": "markdown",
   "metadata": {},
   "source": [
    "Predict using the model. Evaluate the model."
   ]
  },
  {
   "cell_type": "code",
   "execution_count": 41,
   "metadata": {
    "scrolled": true
   },
   "outputs": [],
   "source": [
    "Y_pred_new = lm_model.predict(X_test)"
   ]
  },
  {
   "cell_type": "code",
   "execution_count": 42,
   "metadata": {},
   "outputs": [
    {
     "name": "stdout",
     "output_type": "stream",
     "text": [
      "0.2812924501705578\n",
      "0.2046219023398206\n",
      "0.4523515251879014\n",
      "0.7388575360012187\n"
     ]
    }
   ],
   "source": [
    "from sklearn.metrics import r2_score\n",
    "print(metrics.mean_absolute_error(y_test, Y_pred_new))\n",
    "print(metrics.mean_squared_error(y_test, Y_pred_new))\n",
    "print(np.sqrt(metrics.mean_squared_error(y_test, Y_pred_new)))\n",
    "print(r2_score(y_test, Y_pred_new))"
   ]
  },
  {
   "cell_type": "markdown",
   "metadata": {},
   "source": [
    "Check for Assumption 6-Errors should be random.<br>\n",
    "Hint: Diagnostic plot"
   ]
  },
  {
   "cell_type": "code",
   "execution_count": 43,
   "metadata": {},
   "outputs": [
    {
     "name": "stderr",
     "output_type": "stream",
     "text": [
      "C:\\Users\\HP\\Anaconda3\\lib\\site-packages\\ipykernel_launcher.py:1: SettingWithCopyWarning: \n",
      "A value is trying to be set on a copy of a slice from a DataFrame.\n",
      "Try using .loc[row_indexer,col_indexer] = value instead\n",
      "\n",
      "See the caveats in the documentation: http://pandas.pydata.org/pandas-docs/stable/user_guide/indexing.html#returning-a-view-versus-a-copy\n",
      "  \"\"\"Entry point for launching an IPython kernel.\n"
     ]
    }
   ],
   "source": [
    "new_df['model_fitted_y'] = lm_model.fittedvalues"
   ]
  },
  {
   "cell_type": "code",
   "execution_count": 44,
   "metadata": {},
   "outputs": [
    {
     "data": {
      "text/plain": [
       "Text(0, 0.5, 'Residuals')"
      ]
     },
     "execution_count": 44,
     "metadata": {},
     "output_type": "execute_result"
    },
    {
     "data": {
      "image/png": "[encoded data removed]",
      "text/plain": [
       "<Figure size 720x432 with 1 Axes>"
      ]
     },
     "metadata": {},
     "output_type": "display_data"
    }
   ],
   "source": [
    "sns.set_style('whitegrid')\n",
    "plt.figure(figsize=(10,6))\n",
    "sns.residplot(x='model_fitted_y', y='sales', data=new_df, lowess=True)\n",
    "plt.title('Residuals vs Fitted')\n",
    "plt.xlabel('Fitted values')\n",
    "plt.ylabel('Residuals')"
   ]
  },
  {
   "cell_type": "markdown",
   "metadata": {},
   "source": [
    "Check for Assumption 7-Errors should follow normal distribution.<br>\n",
    "Hint: Diagnostic plot"
   ]
  },
  {
   "cell_type": "code",
   "execution_count": 45,
   "metadata": {},
   "outputs": [
    {
     "data": {
      "image/png": "[encoded data removed]",
      "text/plain": [
       "<Figure size 432x288 with 1 Axes>"
      ]
     },
     "metadata": {},
     "output_type": "display_data"
    }
   ],
   "source": [
    "res = lm_model.resid\n",
    "import statsmodels.api as stm\n",
    "import scipy.stats as stats\n",
    "fig = stm.qqplot(res, fit=True, line='45')\n",
    "plt.title('Normal Q-Q')\n",
    "plt.xlabel('Theoretical Quantiles')\n",
    "plt.ylabel('Standardized Quantiles')\n",
    "plt.show()"
   ]
  },
  {
   "cell_type": "markdown",
   "metadata": {},
   "source": [
    "Check for Assumption 8-Errors should folllow constant variance.<br>\n",
    "Hint: Diagnostic plot"
   ]
  },
  {
   "cell_type": "code",
   "execution_count": 46,
   "metadata": {},
   "outputs": [],
   "source": [
    "model_fitted_y = lm_model.fittedvalues"
   ]
  },
  {
   "cell_type": "code",
   "execution_count": 47,
   "metadata": {
    "scrolled": false
   },
   "outputs": [
    {
     "data": {
      "text/plain": [
       "Text(0, 0.5, '$\\\\sqrt{|Standardized Residuals|}$')"
      ]
     },
     "execution_count": 47,
     "metadata": {},
     "output_type": "execute_result"
    },
    {
     "data": {
      "image/png": "[encoded data removed]",
      "text/plain": [
       "<Figure size 864x576 with 1 Axes>"
      ]
     },
     "metadata": {},
     "output_type": "display_data"
    }
   ],
   "source": [
    "#noemalized residuals\n",
    "model_norm_residuals = lm_model.get_influence().resid_studentized_internal\n",
    "#absolute squared normalized residuals\n",
    "model_norm_residuals_abs_sqrt = np.sqrt(np.abs(model_norm_residuals))\n",
    "\n",
    "plot_lm_3 = plt.figure(3)\n",
    "plot_lm_3.set_figheight(8)\n",
    "plot_lm_3.set_figwidth(12)\n",
    "plt.scatter(model_fitted_y, model_norm_residuals_abs_sqrt, alpha=0.5)\n",
    "sns.regplot(model_fitted_y, model_norm_residuals_abs_sqrt, lowess=True)\n",
    "plt.title('Scale Location')\n",
    "plt.xlabel('Fitted values')\n",
    "plt.ylabel('$\\sqrt{|Standardized Residuals|}$')"
   ]
  },
  {
   "cell_type": "markdown",
   "metadata": {},
   "source": [
    "Scale the data using Standard Scaler to prepare it for SGD."
   ]
  },
  {
   "cell_type": "code",
   "execution_count": 49,
   "metadata": {},
   "outputs": [],
   "source": [
    "from sklearn.preprocessing import StandardScaler\n",
    "scaler = StandardScaler()"
   ]
  },
  {
   "cell_type": "code",
   "execution_count": 53,
   "metadata": {},
   "outputs": [],
   "source": [
    "X = scaler.fit_transform(X)"
   ]
  },
  {
   "cell_type": "markdown",
   "metadata": {},
   "source": [
    "Split the data into train and test.<br>\n",
    "Hint: Make sure you are considering the log transformed Y."
   ]
  },
  {
   "cell_type": "code",
   "execution_count": 54,
   "metadata": {},
   "outputs": [],
   "source": [
    " X_train, X_test, y_train, y_test = train_test_split( X, y, test_size=0.2, random_state=10)"
   ]
  },
  {
   "cell_type": "markdown",
   "metadata": {},
   "source": [
    "Build the SGDRegressor."
   ]
  },
  {
   "cell_type": "code",
   "execution_count": 55,
   "metadata": {
    "scrolled": true
   },
   "outputs": [],
   "source": [
    "from sklearn.linear_model import SGDRegressor\n",
    "lm = SGDRegressor(learning_rate='constant',eta0=0.01,random_state=10,max_iter=100)"
   ]
  },
  {
   "cell_type": "code",
   "execution_count": 56,
   "metadata": {},
   "outputs": [
    {
     "name": "stdout",
     "output_type": "stream",
     "text": [
      "[9.11028129]\n",
      "[ 0.48955006  0.07317849  0.1113616  -0.03004348  0.58779397 -0.06278762]\n"
     ]
    }
   ],
   "source": [
    "lm.fit(X_train, y_train)\n",
    "print(lm.intercept_)\n",
    "print(lm.coef_)"
   ]
  },
  {
   "cell_type": "markdown",
   "metadata": {},
   "source": [
    "Predict using the model. Evaluate the model. Perform trial and error to reach the optimum model."
   ]
  },
  {
   "cell_type": "code",
   "execution_count": 57,
   "metadata": {},
   "outputs": [],
   "source": [
    "Y_pred_new = lm.predict(X_test)"
   ]
  },
  {
   "cell_type": "markdown",
   "metadata": {},
   "source": [
    "Write down your conclusion as to which is the final model that you would go with along with the reasons."
   ]
  },
  {
   "cell_type": "code",
   "execution_count": 58,
   "metadata": {},
   "outputs": [
    {
     "name": "stdout",
     "output_type": "stream",
     "text": [
      "0.3021726900195443\n",
      "0.2348118783855398\n",
      "0.48457391426441826\n",
      "0.7093590255809907\n"
     ]
    }
   ],
   "source": [
    "print(metrics.mean_absolute_error(y_test, Y_pred_new))\n",
    "print(metrics.mean_squared_error(y_test, Y_pred_new))\n",
    "print(np.sqrt(metrics.mean_squared_error(y_test, Y_pred_new)))\n",
    "print(r2_score(y_test, Y_pred_new))"
   ]
  },
  {
   "cell_type": "markdown",
   "metadata": {},
   "source": [
    "Once finalized the model, try predicting the following observations for me.<br>\n",
    "Create the dataframe named \"X_test_sample\" using the given dictionary object.<br>\n",
    "\n",
    "sample_data={\"age\":[56,51,31,64,44,43,56],\n",
    "             \"sex\":[1,0,1,1,0,1,1],\n",
    "             \"bmi\":[19.95,18.05,34.39,25.6,23.98,32.6,33.725],\n",
    "             \"children\":[0,0,3,2,2,2,0],\"smoker\":[1,0,1,0,0,0,0],\"region\":[0,1,1,3,2,3,1]}\n",
    "\n",
    "\n",
    "\n"
   ]
  },
  {
   "cell_type": "code",
   "execution_count": 60,
   "metadata": {},
   "outputs": [],
   "source": [
    "X_test_sample = pd.DataFrame({\"age\":[56,51,31,64,44,43,56], \"sex\":[1,0,1,1,0,1,1], \"bmi\":[19.95,18.05,34.39,25.6,23.98,32.6,33.725], \"children\":[0,0,3,2,2,2,0],\"smoker\":[1,0,1,0,0,0,0],\"region\":[0,1,1,3,2,3,1]})"
   ]
  },
  {
   "cell_type": "code",
   "execution_count": 62,
   "metadata": {
    "scrolled": true
   },
   "outputs": [
    {
     "data": {
      "text/html": [
       "<div>\n",
       "<style scoped>\n",
       "    .dataframe tbody tr th:only-of-type {\n",
       "        vertical-align: middle;\n",
       "    }\n",
       "\n",
       "    .dataframe tbody tr th {\n",
       "        vertical-align: top;\n",
       "    }\n",
       "\n",
       "    .dataframe thead th {\n",
       "        text-align: right;\n",
       "    }\n",
       "</style>\n",
       "<table border=\"1\" class=\"dataframe\">\n",
       "  <thead>\n",
       "    <tr style=\"text-align: right;\">\n",
       "      <th></th>\n",
       "      <th>age</th>\n",
       "      <th>sex</th>\n",
       "      <th>bmi</th>\n",
       "      <th>children</th>\n",
       "      <th>smoker</th>\n",
       "      <th>region</th>\n",
       "    </tr>\n",
       "  </thead>\n",
       "  <tbody>\n",
       "    <tr>\n",
       "      <td>0</td>\n",
       "      <td>56</td>\n",
       "      <td>1</td>\n",
       "      <td>19.950</td>\n",
       "      <td>0</td>\n",
       "      <td>1</td>\n",
       "      <td>0</td>\n",
       "    </tr>\n",
       "    <tr>\n",
       "      <td>1</td>\n",
       "      <td>51</td>\n",
       "      <td>0</td>\n",
       "      <td>18.050</td>\n",
       "      <td>0</td>\n",
       "      <td>0</td>\n",
       "      <td>1</td>\n",
       "    </tr>\n",
       "    <tr>\n",
       "      <td>2</td>\n",
       "      <td>31</td>\n",
       "      <td>1</td>\n",
       "      <td>34.390</td>\n",
       "      <td>3</td>\n",
       "      <td>1</td>\n",
       "      <td>1</td>\n",
       "    </tr>\n",
       "    <tr>\n",
       "      <td>3</td>\n",
       "      <td>64</td>\n",
       "      <td>1</td>\n",
       "      <td>25.600</td>\n",
       "      <td>2</td>\n",
       "      <td>0</td>\n",
       "      <td>3</td>\n",
       "    </tr>\n",
       "    <tr>\n",
       "      <td>4</td>\n",
       "      <td>44</td>\n",
       "      <td>0</td>\n",
       "      <td>23.980</td>\n",
       "      <td>2</td>\n",
       "      <td>0</td>\n",
       "      <td>2</td>\n",
       "    </tr>\n",
       "    <tr>\n",
       "      <td>5</td>\n",
       "      <td>43</td>\n",
       "      <td>1</td>\n",
       "      <td>32.600</td>\n",
       "      <td>2</td>\n",
       "      <td>0</td>\n",
       "      <td>3</td>\n",
       "    </tr>\n",
       "    <tr>\n",
       "      <td>6</td>\n",
       "      <td>56</td>\n",
       "      <td>1</td>\n",
       "      <td>33.725</td>\n",
       "      <td>0</td>\n",
       "      <td>0</td>\n",
       "      <td>1</td>\n",
       "    </tr>\n",
       "  </tbody>\n",
       "</table>\n",
       "</div>"
      ],
      "text/plain": [
       "   age  sex     bmi  children  smoker  region\n",
       "0   56    1  19.950         0       1       0\n",
       "1   51    0  18.050         0       0       1\n",
       "2   31    1  34.390         3       1       1\n",
       "3   64    1  25.600         2       0       3\n",
       "4   44    0  23.980         2       0       2\n",
       "5   43    1  32.600         2       0       3\n",
       "6   56    1  33.725         0       0       1"
      ]
     },
     "execution_count": 62,
     "metadata": {},
     "output_type": "execute_result"
    }
   ],
   "source": [
    "X_test_sample"
   ]
  },
  {
   "cell_type": "markdown",
   "metadata": {},
   "source": [
    "The predicted values would be log transformed.Convert them back to original values.<br>\n",
    "Hint: Use np.exp()"
   ]
  },
  {
   "cell_type": "code",
   "execution_count": 64,
   "metadata": {},
   "outputs": [
    {
     "data": {
      "text/plain": [
       "array([39.40772122, 36.02462379, 28.62411313, 43.117071  , 33.13527308,\n",
       "       33.6160509 , 40.29114571])"
      ]
     },
     "execution_count": 64,
     "metadata": {},
     "output_type": "execute_result"
    }
   ],
   "source": [
    "y_predicted = lm.predict(X_test_sample)\n",
    "y_predicted"
   ]
  },
  {
   "cell_type": "code",
   "execution_count": 65,
   "metadata": {},
   "outputs": [
    {
     "data": {
      "text/plain": [
       "array([1.30183479e+17, 4.41870823e+15, 2.69956869e+12, 5.31503356e+18,\n",
       "       2.45734568e+14, 3.97434356e+14, 3.14935958e+17])"
      ]
     },
     "execution_count": 65,
     "metadata": {},
     "output_type": "execute_result"
    }
   ],
   "source": [
    "y_predicted = np.exp(y_predicted)\n",
    "y_predicted"
   ]
  },
  {
   "cell_type": "markdown",
   "metadata": {},
   "source": [
    "Save the predicted values along with the observations into an excel file."
   ]
  },
  {
   "cell_type": "code",
   "execution_count": 66,
   "metadata": {},
   "outputs": [
    {
     "data": {
      "text/html": [
       "<div>\n",
       "<style scoped>\n",
       "    .dataframe tbody tr th:only-of-type {\n",
       "        vertical-align: middle;\n",
       "    }\n",
       "\n",
       "    .dataframe tbody tr th {\n",
       "        vertical-align: top;\n",
       "    }\n",
       "\n",
       "    .dataframe thead th {\n",
       "        text-align: right;\n",
       "    }\n",
       "</style>\n",
       "<table border=\"1\" class=\"dataframe\">\n",
       "  <thead>\n",
       "    <tr style=\"text-align: right;\">\n",
       "      <th></th>\n",
       "      <th>age</th>\n",
       "      <th>sex</th>\n",
       "      <th>bmi</th>\n",
       "      <th>children</th>\n",
       "      <th>smoker</th>\n",
       "      <th>region</th>\n",
       "      <th>y_predicted</th>\n",
       "    </tr>\n",
       "  </thead>\n",
       "  <tbody>\n",
       "    <tr>\n",
       "      <td>0</td>\n",
       "      <td>56</td>\n",
       "      <td>1</td>\n",
       "      <td>19.95</td>\n",
       "      <td>0</td>\n",
       "      <td>1</td>\n",
       "      <td>0</td>\n",
       "      <td>1.301835e+17</td>\n",
       "    </tr>\n",
       "    <tr>\n",
       "      <td>1</td>\n",
       "      <td>51</td>\n",
       "      <td>0</td>\n",
       "      <td>18.05</td>\n",
       "      <td>0</td>\n",
       "      <td>0</td>\n",
       "      <td>1</td>\n",
       "      <td>4.418708e+15</td>\n",
       "    </tr>\n",
       "    <tr>\n",
       "      <td>2</td>\n",
       "      <td>31</td>\n",
       "      <td>1</td>\n",
       "      <td>34.39</td>\n",
       "      <td>3</td>\n",
       "      <td>1</td>\n",
       "      <td>1</td>\n",
       "      <td>2.699569e+12</td>\n",
       "    </tr>\n",
       "    <tr>\n",
       "      <td>3</td>\n",
       "      <td>64</td>\n",
       "      <td>1</td>\n",
       "      <td>25.60</td>\n",
       "      <td>2</td>\n",
       "      <td>0</td>\n",
       "      <td>3</td>\n",
       "      <td>5.315034e+18</td>\n",
       "    </tr>\n",
       "    <tr>\n",
       "      <td>4</td>\n",
       "      <td>44</td>\n",
       "      <td>0</td>\n",
       "      <td>23.98</td>\n",
       "      <td>2</td>\n",
       "      <td>0</td>\n",
       "      <td>2</td>\n",
       "      <td>2.457346e+14</td>\n",
       "    </tr>\n",
       "  </tbody>\n",
       "</table>\n",
       "</div>"
      ],
      "text/plain": [
       "   age  sex    bmi  children  smoker  region   y_predicted\n",
       "0   56    1  19.95         0       1       0  1.301835e+17\n",
       "1   51    0  18.05         0       0       1  4.418708e+15\n",
       "2   31    1  34.39         3       1       1  2.699569e+12\n",
       "3   64    1  25.60         2       0       3  5.315034e+18\n",
       "4   44    0  23.98         2       0       2  2.457346e+14"
      ]
     },
     "execution_count": 66,
     "metadata": {},
     "output_type": "execute_result"
    }
   ],
   "source": [
    "X_test_sample['y_predicted'] = y_predicted\n",
    "X_test_sample.head() "
   ]
  },
  {
   "cell_type": "code",
   "execution_count": 68,
   "metadata": {},
   "outputs": [],
   "source": [
    "X_test_sample.to_excel('sample_data.xlsx')"
   ]
  },
  {
   "cell_type": "code",
   "execution_count": null,
   "metadata": {},
   "outputs": [],
   "source": []
  }
 ],
 "metadata": {
  "kernelspec": {
   "display_name": "Python 3",
   "language": "python",
   "name": "python3"
  },
  "language_info": {
   "codemirror_mode": {
    "name": "ipython",
    "version": 3
   },
   "file_extension": ".py",
   "mimetype": "text/x-python",
   "name": "python",
   "nbconvert_exporter": "python",
   "pygments_lexer": "ipython3",
   "version": "3.7.4"
  }
 },
 "nbformat": 4,
 "nbformat_minor": 2
}
